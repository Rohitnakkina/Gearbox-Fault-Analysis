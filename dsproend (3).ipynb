{
  "cells": [
    {
      "cell_type": "code",
      "execution_count": null,
      "id": "0cc24b6e",
      "metadata": {
        "id": "0cc24b6e"
      },
      "outputs": [],
      "source": [
        "import numpy as np\n",
        "import pandas as pd\n",
        "import os"
      ]
    },
    {
      "cell_type": "code",
      "execution_count": null,
      "id": "aeaaf978",
      "metadata": {
        "id": "aeaaf978"
      },
      "outputs": [],
      "source": [
        "df_F0=pd.read_csv('b30hz0.csv')"
      ]
    },
    {
      "cell_type": "code",
      "execution_count": null,
      "id": "696aa92a",
      "metadata": {
        "colab": {
          "base_uri": "https://localhost:8080/",
          "height": 423
        },
        "id": "696aa92a",
        "outputId": "b23f9642-4b05-4096-94ef-2e260d550ea2"
      },
      "outputs": [
        {
          "output_type": "execute_result",
          "data": {
            "text/plain": [
              "             a1        a2        a3        a4\n",
              "0      2.350390  1.454870 -1.667080 -2.055610\n",
              "1      2.452970  1.400100 -2.825100  0.984487\n",
              "2     -0.241284 -0.267390  0.793540  0.605862\n",
              "3      1.130270 -0.890918  0.696969  0.613068\n",
              "4     -1.296140  0.980479 -1.130560 -0.346971\n",
              "...         ...       ...       ...       ...\n",
              "88315  1.658100 -6.309490  0.821900 -3.357700\n",
              "88316  2.253370 -3.105760  2.791110 -3.016840\n",
              "88317  2.625840  3.814600  1.330690 -0.759645\n",
              "88318  5.358220  6.105210 -1.367490  0.891057\n",
              "88319  4.050180  1.962860  2.880230  2.254370\n",
              "\n",
              "[88320 rows x 4 columns]"
            ],
            "text/html": [
              "\n",
              "  <div id=\"df-0269bf44-d0b4-42cc-97d3-eb42963b4e55\">\n",
              "    <div class=\"colab-df-container\">\n",
              "      <div>\n",
              "<style scoped>\n",
              "    .dataframe tbody tr th:only-of-type {\n",
              "        vertical-align: middle;\n",
              "    }\n",
              "\n",
              "    .dataframe tbody tr th {\n",
              "        vertical-align: top;\n",
              "    }\n",
              "\n",
              "    .dataframe thead th {\n",
              "        text-align: right;\n",
              "    }\n",
              "</style>\n",
              "<table border=\"1\" class=\"dataframe\">\n",
              "  <thead>\n",
              "    <tr style=\"text-align: right;\">\n",
              "      <th></th>\n",
              "      <th>a1</th>\n",
              "      <th>a2</th>\n",
              "      <th>a3</th>\n",
              "      <th>a4</th>\n",
              "    </tr>\n",
              "  </thead>\n",
              "  <tbody>\n",
              "    <tr>\n",
              "      <th>0</th>\n",
              "      <td>2.350390</td>\n",
              "      <td>1.454870</td>\n",
              "      <td>-1.667080</td>\n",
              "      <td>-2.055610</td>\n",
              "    </tr>\n",
              "    <tr>\n",
              "      <th>1</th>\n",
              "      <td>2.452970</td>\n",
              "      <td>1.400100</td>\n",
              "      <td>-2.825100</td>\n",
              "      <td>0.984487</td>\n",
              "    </tr>\n",
              "    <tr>\n",
              "      <th>2</th>\n",
              "      <td>-0.241284</td>\n",
              "      <td>-0.267390</td>\n",
              "      <td>0.793540</td>\n",
              "      <td>0.605862</td>\n",
              "    </tr>\n",
              "    <tr>\n",
              "      <th>3</th>\n",
              "      <td>1.130270</td>\n",
              "      <td>-0.890918</td>\n",
              "      <td>0.696969</td>\n",
              "      <td>0.613068</td>\n",
              "    </tr>\n",
              "    <tr>\n",
              "      <th>4</th>\n",
              "      <td>-1.296140</td>\n",
              "      <td>0.980479</td>\n",
              "      <td>-1.130560</td>\n",
              "      <td>-0.346971</td>\n",
              "    </tr>\n",
              "    <tr>\n",
              "      <th>...</th>\n",
              "      <td>...</td>\n",
              "      <td>...</td>\n",
              "      <td>...</td>\n",
              "      <td>...</td>\n",
              "    </tr>\n",
              "    <tr>\n",
              "      <th>88315</th>\n",
              "      <td>1.658100</td>\n",
              "      <td>-6.309490</td>\n",
              "      <td>0.821900</td>\n",
              "      <td>-3.357700</td>\n",
              "    </tr>\n",
              "    <tr>\n",
              "      <th>88316</th>\n",
              "      <td>2.253370</td>\n",
              "      <td>-3.105760</td>\n",
              "      <td>2.791110</td>\n",
              "      <td>-3.016840</td>\n",
              "    </tr>\n",
              "    <tr>\n",
              "      <th>88317</th>\n",
              "      <td>2.625840</td>\n",
              "      <td>3.814600</td>\n",
              "      <td>1.330690</td>\n",
              "      <td>-0.759645</td>\n",
              "    </tr>\n",
              "    <tr>\n",
              "      <th>88318</th>\n",
              "      <td>5.358220</td>\n",
              "      <td>6.105210</td>\n",
              "      <td>-1.367490</td>\n",
              "      <td>0.891057</td>\n",
              "    </tr>\n",
              "    <tr>\n",
              "      <th>88319</th>\n",
              "      <td>4.050180</td>\n",
              "      <td>1.962860</td>\n",
              "      <td>2.880230</td>\n",
              "      <td>2.254370</td>\n",
              "    </tr>\n",
              "  </tbody>\n",
              "</table>\n",
              "<p>88320 rows × 4 columns</p>\n",
              "</div>\n",
              "      <button class=\"colab-df-convert\" onclick=\"convertToInteractive('df-0269bf44-d0b4-42cc-97d3-eb42963b4e55')\"\n",
              "              title=\"Convert this dataframe to an interactive table.\"\n",
              "              style=\"display:none;\">\n",
              "        \n",
              "  <svg xmlns=\"http://www.w3.org/2000/svg\" height=\"24px\"viewBox=\"0 0 24 24\"\n",
              "       width=\"24px\">\n",
              "    <path d=\"M0 0h24v24H0V0z\" fill=\"none\"/>\n",
              "    <path d=\"M18.56 5.44l.94 2.06.94-2.06 2.06-.94-2.06-.94-.94-2.06-.94 2.06-2.06.94zm-11 1L8.5 8.5l.94-2.06 2.06-.94-2.06-.94L8.5 2.5l-.94 2.06-2.06.94zm10 10l.94 2.06.94-2.06 2.06-.94-2.06-.94-.94-2.06-.94 2.06-2.06.94z\"/><path d=\"M17.41 7.96l-1.37-1.37c-.4-.4-.92-.59-1.43-.59-.52 0-1.04.2-1.43.59L10.3 9.45l-7.72 7.72c-.78.78-.78 2.05 0 2.83L4 21.41c.39.39.9.59 1.41.59.51 0 1.02-.2 1.41-.59l7.78-7.78 2.81-2.81c.8-.78.8-2.07 0-2.86zM5.41 20L4 18.59l7.72-7.72 1.47 1.35L5.41 20z\"/>\n",
              "  </svg>\n",
              "      </button>\n",
              "      \n",
              "  <style>\n",
              "    .colab-df-container {\n",
              "      display:flex;\n",
              "      flex-wrap:wrap;\n",
              "      gap: 12px;\n",
              "    }\n",
              "\n",
              "    .colab-df-convert {\n",
              "      background-color: #E8F0FE;\n",
              "      border: none;\n",
              "      border-radius: 50%;\n",
              "      cursor: pointer;\n",
              "      display: none;\n",
              "      fill: #1967D2;\n",
              "      height: 32px;\n",
              "      padding: 0 0 0 0;\n",
              "      width: 32px;\n",
              "    }\n",
              "\n",
              "    .colab-df-convert:hover {\n",
              "      background-color: #E2EBFA;\n",
              "      box-shadow: 0px 1px 2px rgba(60, 64, 67, 0.3), 0px 1px 3px 1px rgba(60, 64, 67, 0.15);\n",
              "      fill: #174EA6;\n",
              "    }\n",
              "\n",
              "    [theme=dark] .colab-df-convert {\n",
              "      background-color: #3B4455;\n",
              "      fill: #D2E3FC;\n",
              "    }\n",
              "\n",
              "    [theme=dark] .colab-df-convert:hover {\n",
              "      background-color: #434B5C;\n",
              "      box-shadow: 0px 1px 3px 1px rgba(0, 0, 0, 0.15);\n",
              "      filter: drop-shadow(0px 1px 2px rgba(0, 0, 0, 0.3));\n",
              "      fill: #FFFFFF;\n",
              "    }\n",
              "  </style>\n",
              "\n",
              "      <script>\n",
              "        const buttonEl =\n",
              "          document.querySelector('#df-0269bf44-d0b4-42cc-97d3-eb42963b4e55 button.colab-df-convert');\n",
              "        buttonEl.style.display =\n",
              "          google.colab.kernel.accessAllowed ? 'block' : 'none';\n",
              "\n",
              "        async function convertToInteractive(key) {\n",
              "          const element = document.querySelector('#df-0269bf44-d0b4-42cc-97d3-eb42963b4e55');\n",
              "          const dataTable =\n",
              "            await google.colab.kernel.invokeFunction('convertToInteractive',\n",
              "                                                     [key], {});\n",
              "          if (!dataTable) return;\n",
              "\n",
              "          const docLinkHtml = 'Like what you see? Visit the ' +\n",
              "            '<a target=\"_blank\" href=https://colab.research.google.com/notebooks/data_table.ipynb>data table notebook</a>'\n",
              "            + ' to learn more about interactive tables.';\n",
              "          element.innerHTML = '';\n",
              "          dataTable['output_type'] = 'display_data';\n",
              "          await google.colab.output.renderOutput(dataTable, element);\n",
              "          const docLink = document.createElement('div');\n",
              "          docLink.innerHTML = docLinkHtml;\n",
              "          element.appendChild(docLink);\n",
              "        }\n",
              "      </script>\n",
              "    </div>\n",
              "  </div>\n",
              "  "
            ]
          },
          "metadata": {},
          "execution_count": 315
        }
      ],
      "source": [
        "df_F0"
      ]
    },
    {
      "cell_type": "code",
      "execution_count": null,
      "id": "04570b20",
      "metadata": {
        "id": "04570b20"
      },
      "outputs": [],
      "source": [
        "df_H0=pd.read_csv('h30hz0.csv')"
      ]
    },
    {
      "cell_type": "code",
      "execution_count": null,
      "id": "bf52e2df",
      "metadata": {
        "colab": {
          "base_uri": "https://localhost:8080/",
          "height": 423
        },
        "id": "bf52e2df",
        "outputId": "2af99f6e-f97d-4574-cb6d-3af53f6a1926"
      },
      "outputs": [
        {
          "output_type": "execute_result",
          "data": {
            "text/plain": [
              "              a1        a2        a3        a4\n",
              "0       4.636710  0.516978 -3.205940  1.822410\n",
              "1       1.992800  4.184660 -2.740610  2.804360\n",
              "2      -3.764110  0.997335 -1.303090  1.836680\n",
              "3      -4.558710  6.104330 -1.720690  1.723110\n",
              "4       0.575382  0.170980 -0.497967 -1.328950\n",
              "...          ...       ...       ...       ...\n",
              "88827   2.809130 -3.421020  2.817560  5.418570\n",
              "88828  11.952700  1.738450  4.215360  5.602480\n",
              "88829   6.530280 -3.127760 -2.620330 -3.159950\n",
              "88830  -8.614460  5.420640 -6.559170 -0.519373\n",
              "88831 -13.777300  2.096510 -0.539919 -2.721940\n",
              "\n",
              "[88832 rows x 4 columns]"
            ],
            "text/html": [
              "\n",
              "  <div id=\"df-236598fb-d254-4207-9d30-a0bf086f4c37\">\n",
              "    <div class=\"colab-df-container\">\n",
              "      <div>\n",
              "<style scoped>\n",
              "    .dataframe tbody tr th:only-of-type {\n",
              "        vertical-align: middle;\n",
              "    }\n",
              "\n",
              "    .dataframe tbody tr th {\n",
              "        vertical-align: top;\n",
              "    }\n",
              "\n",
              "    .dataframe thead th {\n",
              "        text-align: right;\n",
              "    }\n",
              "</style>\n",
              "<table border=\"1\" class=\"dataframe\">\n",
              "  <thead>\n",
              "    <tr style=\"text-align: right;\">\n",
              "      <th></th>\n",
              "      <th>a1</th>\n",
              "      <th>a2</th>\n",
              "      <th>a3</th>\n",
              "      <th>a4</th>\n",
              "    </tr>\n",
              "  </thead>\n",
              "  <tbody>\n",
              "    <tr>\n",
              "      <th>0</th>\n",
              "      <td>4.636710</td>\n",
              "      <td>0.516978</td>\n",
              "      <td>-3.205940</td>\n",
              "      <td>1.822410</td>\n",
              "    </tr>\n",
              "    <tr>\n",
              "      <th>1</th>\n",
              "      <td>1.992800</td>\n",
              "      <td>4.184660</td>\n",
              "      <td>-2.740610</td>\n",
              "      <td>2.804360</td>\n",
              "    </tr>\n",
              "    <tr>\n",
              "      <th>2</th>\n",
              "      <td>-3.764110</td>\n",
              "      <td>0.997335</td>\n",
              "      <td>-1.303090</td>\n",
              "      <td>1.836680</td>\n",
              "    </tr>\n",
              "    <tr>\n",
              "      <th>3</th>\n",
              "      <td>-4.558710</td>\n",
              "      <td>6.104330</td>\n",
              "      <td>-1.720690</td>\n",
              "      <td>1.723110</td>\n",
              "    </tr>\n",
              "    <tr>\n",
              "      <th>4</th>\n",
              "      <td>0.575382</td>\n",
              "      <td>0.170980</td>\n",
              "      <td>-0.497967</td>\n",
              "      <td>-1.328950</td>\n",
              "    </tr>\n",
              "    <tr>\n",
              "      <th>...</th>\n",
              "      <td>...</td>\n",
              "      <td>...</td>\n",
              "      <td>...</td>\n",
              "      <td>...</td>\n",
              "    </tr>\n",
              "    <tr>\n",
              "      <th>88827</th>\n",
              "      <td>2.809130</td>\n",
              "      <td>-3.421020</td>\n",
              "      <td>2.817560</td>\n",
              "      <td>5.418570</td>\n",
              "    </tr>\n",
              "    <tr>\n",
              "      <th>88828</th>\n",
              "      <td>11.952700</td>\n",
              "      <td>1.738450</td>\n",
              "      <td>4.215360</td>\n",
              "      <td>5.602480</td>\n",
              "    </tr>\n",
              "    <tr>\n",
              "      <th>88829</th>\n",
              "      <td>6.530280</td>\n",
              "      <td>-3.127760</td>\n",
              "      <td>-2.620330</td>\n",
              "      <td>-3.159950</td>\n",
              "    </tr>\n",
              "    <tr>\n",
              "      <th>88830</th>\n",
              "      <td>-8.614460</td>\n",
              "      <td>5.420640</td>\n",
              "      <td>-6.559170</td>\n",
              "      <td>-0.519373</td>\n",
              "    </tr>\n",
              "    <tr>\n",
              "      <th>88831</th>\n",
              "      <td>-13.777300</td>\n",
              "      <td>2.096510</td>\n",
              "      <td>-0.539919</td>\n",
              "      <td>-2.721940</td>\n",
              "    </tr>\n",
              "  </tbody>\n",
              "</table>\n",
              "<p>88832 rows × 4 columns</p>\n",
              "</div>\n",
              "      <button class=\"colab-df-convert\" onclick=\"convertToInteractive('df-236598fb-d254-4207-9d30-a0bf086f4c37')\"\n",
              "              title=\"Convert this dataframe to an interactive table.\"\n",
              "              style=\"display:none;\">\n",
              "        \n",
              "  <svg xmlns=\"http://www.w3.org/2000/svg\" height=\"24px\"viewBox=\"0 0 24 24\"\n",
              "       width=\"24px\">\n",
              "    <path d=\"M0 0h24v24H0V0z\" fill=\"none\"/>\n",
              "    <path d=\"M18.56 5.44l.94 2.06.94-2.06 2.06-.94-2.06-.94-.94-2.06-.94 2.06-2.06.94zm-11 1L8.5 8.5l.94-2.06 2.06-.94-2.06-.94L8.5 2.5l-.94 2.06-2.06.94zm10 10l.94 2.06.94-2.06 2.06-.94-2.06-.94-.94-2.06-.94 2.06-2.06.94z\"/><path d=\"M17.41 7.96l-1.37-1.37c-.4-.4-.92-.59-1.43-.59-.52 0-1.04.2-1.43.59L10.3 9.45l-7.72 7.72c-.78.78-.78 2.05 0 2.83L4 21.41c.39.39.9.59 1.41.59.51 0 1.02-.2 1.41-.59l7.78-7.78 2.81-2.81c.8-.78.8-2.07 0-2.86zM5.41 20L4 18.59l7.72-7.72 1.47 1.35L5.41 20z\"/>\n",
              "  </svg>\n",
              "      </button>\n",
              "      \n",
              "  <style>\n",
              "    .colab-df-container {\n",
              "      display:flex;\n",
              "      flex-wrap:wrap;\n",
              "      gap: 12px;\n",
              "    }\n",
              "\n",
              "    .colab-df-convert {\n",
              "      background-color: #E8F0FE;\n",
              "      border: none;\n",
              "      border-radius: 50%;\n",
              "      cursor: pointer;\n",
              "      display: none;\n",
              "      fill: #1967D2;\n",
              "      height: 32px;\n",
              "      padding: 0 0 0 0;\n",
              "      width: 32px;\n",
              "    }\n",
              "\n",
              "    .colab-df-convert:hover {\n",
              "      background-color: #E2EBFA;\n",
              "      box-shadow: 0px 1px 2px rgba(60, 64, 67, 0.3), 0px 1px 3px 1px rgba(60, 64, 67, 0.15);\n",
              "      fill: #174EA6;\n",
              "    }\n",
              "\n",
              "    [theme=dark] .colab-df-convert {\n",
              "      background-color: #3B4455;\n",
              "      fill: #D2E3FC;\n",
              "    }\n",
              "\n",
              "    [theme=dark] .colab-df-convert:hover {\n",
              "      background-color: #434B5C;\n",
              "      box-shadow: 0px 1px 3px 1px rgba(0, 0, 0, 0.15);\n",
              "      filter: drop-shadow(0px 1px 2px rgba(0, 0, 0, 0.3));\n",
              "      fill: #FFFFFF;\n",
              "    }\n",
              "  </style>\n",
              "\n",
              "      <script>\n",
              "        const buttonEl =\n",
              "          document.querySelector('#df-236598fb-d254-4207-9d30-a0bf086f4c37 button.colab-df-convert');\n",
              "        buttonEl.style.display =\n",
              "          google.colab.kernel.accessAllowed ? 'block' : 'none';\n",
              "\n",
              "        async function convertToInteractive(key) {\n",
              "          const element = document.querySelector('#df-236598fb-d254-4207-9d30-a0bf086f4c37');\n",
              "          const dataTable =\n",
              "            await google.colab.kernel.invokeFunction('convertToInteractive',\n",
              "                                                     [key], {});\n",
              "          if (!dataTable) return;\n",
              "\n",
              "          const docLinkHtml = 'Like what you see? Visit the ' +\n",
              "            '<a target=\"_blank\" href=https://colab.research.google.com/notebooks/data_table.ipynb>data table notebook</a>'\n",
              "            + ' to learn more about interactive tables.';\n",
              "          element.innerHTML = '';\n",
              "          dataTable['output_type'] = 'display_data';\n",
              "          await google.colab.output.renderOutput(dataTable, element);\n",
              "          const docLink = document.createElement('div');\n",
              "          docLink.innerHTML = docLinkHtml;\n",
              "          element.appendChild(docLink);\n",
              "        }\n",
              "      </script>\n",
              "    </div>\n",
              "  </div>\n",
              "  "
            ]
          },
          "metadata": {},
          "execution_count": 317
        }
      ],
      "source": [
        "df_H0"
      ]
    },
    {
      "cell_type": "code",
      "execution_count": null,
      "id": "1f94cf1f",
      "metadata": {
        "id": "1f94cf1f",
        "colab": {
          "base_uri": "https://localhost:8080/",
          "height": 423
        },
        "outputId": "170a2e00-fada-42e4-bcd5-20df638657fa"
      },
      "outputs": [
        {
          "output_type": "execute_result",
          "data": {
            "text/plain": [
              "             a1        a2        a3        a4  load  fault\n",
              "0      2.350390  1.454870 -1.667080 -2.055610     0      1\n",
              "1      2.452970  1.400100 -2.825100  0.984487     0      1\n",
              "2     -0.241284 -0.267390  0.793540  0.605862     0      1\n",
              "3      1.130270 -0.890918  0.696969  0.613068     0      1\n",
              "4     -1.296140  0.980479 -1.130560 -0.346971     0      1\n",
              "...         ...       ...       ...       ...   ...    ...\n",
              "88315  1.658100 -6.309490  0.821900 -3.357700     0      1\n",
              "88316  2.253370 -3.105760  2.791110 -3.016840     0      1\n",
              "88317  2.625840  3.814600  1.330690 -0.759645     0      1\n",
              "88318  5.358220  6.105210 -1.367490  0.891057     0      1\n",
              "88319  4.050180  1.962860  2.880230  2.254370     0      1\n",
              "\n",
              "[88320 rows x 6 columns]"
            ],
            "text/html": [
              "\n",
              "  <div id=\"df-def2c74f-1a75-40bb-be35-618efe54f3b9\">\n",
              "    <div class=\"colab-df-container\">\n",
              "      <div>\n",
              "<style scoped>\n",
              "    .dataframe tbody tr th:only-of-type {\n",
              "        vertical-align: middle;\n",
              "    }\n",
              "\n",
              "    .dataframe tbody tr th {\n",
              "        vertical-align: top;\n",
              "    }\n",
              "\n",
              "    .dataframe thead th {\n",
              "        text-align: right;\n",
              "    }\n",
              "</style>\n",
              "<table border=\"1\" class=\"dataframe\">\n",
              "  <thead>\n",
              "    <tr style=\"text-align: right;\">\n",
              "      <th></th>\n",
              "      <th>a1</th>\n",
              "      <th>a2</th>\n",
              "      <th>a3</th>\n",
              "      <th>a4</th>\n",
              "      <th>load</th>\n",
              "      <th>fault</th>\n",
              "    </tr>\n",
              "  </thead>\n",
              "  <tbody>\n",
              "    <tr>\n",
              "      <th>0</th>\n",
              "      <td>2.350390</td>\n",
              "      <td>1.454870</td>\n",
              "      <td>-1.667080</td>\n",
              "      <td>-2.055610</td>\n",
              "      <td>0</td>\n",
              "      <td>1</td>\n",
              "    </tr>\n",
              "    <tr>\n",
              "      <th>1</th>\n",
              "      <td>2.452970</td>\n",
              "      <td>1.400100</td>\n",
              "      <td>-2.825100</td>\n",
              "      <td>0.984487</td>\n",
              "      <td>0</td>\n",
              "      <td>1</td>\n",
              "    </tr>\n",
              "    <tr>\n",
              "      <th>2</th>\n",
              "      <td>-0.241284</td>\n",
              "      <td>-0.267390</td>\n",
              "      <td>0.793540</td>\n",
              "      <td>0.605862</td>\n",
              "      <td>0</td>\n",
              "      <td>1</td>\n",
              "    </tr>\n",
              "    <tr>\n",
              "      <th>3</th>\n",
              "      <td>1.130270</td>\n",
              "      <td>-0.890918</td>\n",
              "      <td>0.696969</td>\n",
              "      <td>0.613068</td>\n",
              "      <td>0</td>\n",
              "      <td>1</td>\n",
              "    </tr>\n",
              "    <tr>\n",
              "      <th>4</th>\n",
              "      <td>-1.296140</td>\n",
              "      <td>0.980479</td>\n",
              "      <td>-1.130560</td>\n",
              "      <td>-0.346971</td>\n",
              "      <td>0</td>\n",
              "      <td>1</td>\n",
              "    </tr>\n",
              "    <tr>\n",
              "      <th>...</th>\n",
              "      <td>...</td>\n",
              "      <td>...</td>\n",
              "      <td>...</td>\n",
              "      <td>...</td>\n",
              "      <td>...</td>\n",
              "      <td>...</td>\n",
              "    </tr>\n",
              "    <tr>\n",
              "      <th>88315</th>\n",
              "      <td>1.658100</td>\n",
              "      <td>-6.309490</td>\n",
              "      <td>0.821900</td>\n",
              "      <td>-3.357700</td>\n",
              "      <td>0</td>\n",
              "      <td>1</td>\n",
              "    </tr>\n",
              "    <tr>\n",
              "      <th>88316</th>\n",
              "      <td>2.253370</td>\n",
              "      <td>-3.105760</td>\n",
              "      <td>2.791110</td>\n",
              "      <td>-3.016840</td>\n",
              "      <td>0</td>\n",
              "      <td>1</td>\n",
              "    </tr>\n",
              "    <tr>\n",
              "      <th>88317</th>\n",
              "      <td>2.625840</td>\n",
              "      <td>3.814600</td>\n",
              "      <td>1.330690</td>\n",
              "      <td>-0.759645</td>\n",
              "      <td>0</td>\n",
              "      <td>1</td>\n",
              "    </tr>\n",
              "    <tr>\n",
              "      <th>88318</th>\n",
              "      <td>5.358220</td>\n",
              "      <td>6.105210</td>\n",
              "      <td>-1.367490</td>\n",
              "      <td>0.891057</td>\n",
              "      <td>0</td>\n",
              "      <td>1</td>\n",
              "    </tr>\n",
              "    <tr>\n",
              "      <th>88319</th>\n",
              "      <td>4.050180</td>\n",
              "      <td>1.962860</td>\n",
              "      <td>2.880230</td>\n",
              "      <td>2.254370</td>\n",
              "      <td>0</td>\n",
              "      <td>1</td>\n",
              "    </tr>\n",
              "  </tbody>\n",
              "</table>\n",
              "<p>88320 rows × 6 columns</p>\n",
              "</div>\n",
              "      <button class=\"colab-df-convert\" onclick=\"convertToInteractive('df-def2c74f-1a75-40bb-be35-618efe54f3b9')\"\n",
              "              title=\"Convert this dataframe to an interactive table.\"\n",
              "              style=\"display:none;\">\n",
              "        \n",
              "  <svg xmlns=\"http://www.w3.org/2000/svg\" height=\"24px\"viewBox=\"0 0 24 24\"\n",
              "       width=\"24px\">\n",
              "    <path d=\"M0 0h24v24H0V0z\" fill=\"none\"/>\n",
              "    <path d=\"M18.56 5.44l.94 2.06.94-2.06 2.06-.94-2.06-.94-.94-2.06-.94 2.06-2.06.94zm-11 1L8.5 8.5l.94-2.06 2.06-.94-2.06-.94L8.5 2.5l-.94 2.06-2.06.94zm10 10l.94 2.06.94-2.06 2.06-.94-2.06-.94-.94-2.06-.94 2.06-2.06.94z\"/><path d=\"M17.41 7.96l-1.37-1.37c-.4-.4-.92-.59-1.43-.59-.52 0-1.04.2-1.43.59L10.3 9.45l-7.72 7.72c-.78.78-.78 2.05 0 2.83L4 21.41c.39.39.9.59 1.41.59.51 0 1.02-.2 1.41-.59l7.78-7.78 2.81-2.81c.8-.78.8-2.07 0-2.86zM5.41 20L4 18.59l7.72-7.72 1.47 1.35L5.41 20z\"/>\n",
              "  </svg>\n",
              "      </button>\n",
              "      \n",
              "  <style>\n",
              "    .colab-df-container {\n",
              "      display:flex;\n",
              "      flex-wrap:wrap;\n",
              "      gap: 12px;\n",
              "    }\n",
              "\n",
              "    .colab-df-convert {\n",
              "      background-color: #E8F0FE;\n",
              "      border: none;\n",
              "      border-radius: 50%;\n",
              "      cursor: pointer;\n",
              "      display: none;\n",
              "      fill: #1967D2;\n",
              "      height: 32px;\n",
              "      padding: 0 0 0 0;\n",
              "      width: 32px;\n",
              "    }\n",
              "\n",
              "    .colab-df-convert:hover {\n",
              "      background-color: #E2EBFA;\n",
              "      box-shadow: 0px 1px 2px rgba(60, 64, 67, 0.3), 0px 1px 3px 1px rgba(60, 64, 67, 0.15);\n",
              "      fill: #174EA6;\n",
              "    }\n",
              "\n",
              "    [theme=dark] .colab-df-convert {\n",
              "      background-color: #3B4455;\n",
              "      fill: #D2E3FC;\n",
              "    }\n",
              "\n",
              "    [theme=dark] .colab-df-convert:hover {\n",
              "      background-color: #434B5C;\n",
              "      box-shadow: 0px 1px 3px 1px rgba(0, 0, 0, 0.15);\n",
              "      filter: drop-shadow(0px 1px 2px rgba(0, 0, 0, 0.3));\n",
              "      fill: #FFFFFF;\n",
              "    }\n",
              "  </style>\n",
              "\n",
              "      <script>\n",
              "        const buttonEl =\n",
              "          document.querySelector('#df-def2c74f-1a75-40bb-be35-618efe54f3b9 button.colab-df-convert');\n",
              "        buttonEl.style.display =\n",
              "          google.colab.kernel.accessAllowed ? 'block' : 'none';\n",
              "\n",
              "        async function convertToInteractive(key) {\n",
              "          const element = document.querySelector('#df-def2c74f-1a75-40bb-be35-618efe54f3b9');\n",
              "          const dataTable =\n",
              "            await google.colab.kernel.invokeFunction('convertToInteractive',\n",
              "                                                     [key], {});\n",
              "          if (!dataTable) return;\n",
              "\n",
              "          const docLinkHtml = 'Like what you see? Visit the ' +\n",
              "            '<a target=\"_blank\" href=https://colab.research.google.com/notebooks/data_table.ipynb>data table notebook</a>'\n",
              "            + ' to learn more about interactive tables.';\n",
              "          element.innerHTML = '';\n",
              "          dataTable['output_type'] = 'display_data';\n",
              "          await google.colab.output.renderOutput(dataTable, element);\n",
              "          const docLink = document.createElement('div');\n",
              "          docLink.innerHTML = docLinkHtml;\n",
              "          element.appendChild(docLink);\n",
              "        }\n",
              "      </script>\n",
              "    </div>\n",
              "  </div>\n",
              "  "
            ]
          },
          "metadata": {},
          "execution_count": 318
        }
      ],
      "source": [
        "load_col=[int(0/100) for j in range(len(df_F0))]\n",
        "label_col = [int(1) for j in range(len(df_F0))]\n",
        "df_F0['load']=load_col\n",
        "df_F0['fault']=label_col\n",
        "df_F0"
      ]
    },
    {
      "cell_type": "code",
      "execution_count": null,
      "id": "0f5d94d3",
      "metadata": {
        "colab": {
          "base_uri": "https://localhost:8080/",
          "height": 423
        },
        "id": "0f5d94d3",
        "outputId": "555cf65d-f388-4351-c2fa-125ec79768b1"
      },
      "outputs": [
        {
          "output_type": "execute_result",
          "data": {
            "text/plain": [
              "              a1        a2        a3        a4  load  fault\n",
              "0       4.636710  0.516978 -3.205940  1.822410     0      0\n",
              "1       1.992800  4.184660 -2.740610  2.804360     0      0\n",
              "2      -3.764110  0.997335 -1.303090  1.836680     0      0\n",
              "3      -4.558710  6.104330 -1.720690  1.723110     0      0\n",
              "4       0.575382  0.170980 -0.497967 -1.328950     0      0\n",
              "...          ...       ...       ...       ...   ...    ...\n",
              "88827   2.809130 -3.421020  2.817560  5.418570     0      0\n",
              "88828  11.952700  1.738450  4.215360  5.602480     0      0\n",
              "88829   6.530280 -3.127760 -2.620330 -3.159950     0      0\n",
              "88830  -8.614460  5.420640 -6.559170 -0.519373     0      0\n",
              "88831 -13.777300  2.096510 -0.539919 -2.721940     0      0\n",
              "\n",
              "[88832 rows x 6 columns]"
            ],
            "text/html": [
              "\n",
              "  <div id=\"df-a83c0ef7-3247-4854-a2a7-a4b3e6852c11\">\n",
              "    <div class=\"colab-df-container\">\n",
              "      <div>\n",
              "<style scoped>\n",
              "    .dataframe tbody tr th:only-of-type {\n",
              "        vertical-align: middle;\n",
              "    }\n",
              "\n",
              "    .dataframe tbody tr th {\n",
              "        vertical-align: top;\n",
              "    }\n",
              "\n",
              "    .dataframe thead th {\n",
              "        text-align: right;\n",
              "    }\n",
              "</style>\n",
              "<table border=\"1\" class=\"dataframe\">\n",
              "  <thead>\n",
              "    <tr style=\"text-align: right;\">\n",
              "      <th></th>\n",
              "      <th>a1</th>\n",
              "      <th>a2</th>\n",
              "      <th>a3</th>\n",
              "      <th>a4</th>\n",
              "      <th>load</th>\n",
              "      <th>fault</th>\n",
              "    </tr>\n",
              "  </thead>\n",
              "  <tbody>\n",
              "    <tr>\n",
              "      <th>0</th>\n",
              "      <td>4.636710</td>\n",
              "      <td>0.516978</td>\n",
              "      <td>-3.205940</td>\n",
              "      <td>1.822410</td>\n",
              "      <td>0</td>\n",
              "      <td>0</td>\n",
              "    </tr>\n",
              "    <tr>\n",
              "      <th>1</th>\n",
              "      <td>1.992800</td>\n",
              "      <td>4.184660</td>\n",
              "      <td>-2.740610</td>\n",
              "      <td>2.804360</td>\n",
              "      <td>0</td>\n",
              "      <td>0</td>\n",
              "    </tr>\n",
              "    <tr>\n",
              "      <th>2</th>\n",
              "      <td>-3.764110</td>\n",
              "      <td>0.997335</td>\n",
              "      <td>-1.303090</td>\n",
              "      <td>1.836680</td>\n",
              "      <td>0</td>\n",
              "      <td>0</td>\n",
              "    </tr>\n",
              "    <tr>\n",
              "      <th>3</th>\n",
              "      <td>-4.558710</td>\n",
              "      <td>6.104330</td>\n",
              "      <td>-1.720690</td>\n",
              "      <td>1.723110</td>\n",
              "      <td>0</td>\n",
              "      <td>0</td>\n",
              "    </tr>\n",
              "    <tr>\n",
              "      <th>4</th>\n",
              "      <td>0.575382</td>\n",
              "      <td>0.170980</td>\n",
              "      <td>-0.497967</td>\n",
              "      <td>-1.328950</td>\n",
              "      <td>0</td>\n",
              "      <td>0</td>\n",
              "    </tr>\n",
              "    <tr>\n",
              "      <th>...</th>\n",
              "      <td>...</td>\n",
              "      <td>...</td>\n",
              "      <td>...</td>\n",
              "      <td>...</td>\n",
              "      <td>...</td>\n",
              "      <td>...</td>\n",
              "    </tr>\n",
              "    <tr>\n",
              "      <th>88827</th>\n",
              "      <td>2.809130</td>\n",
              "      <td>-3.421020</td>\n",
              "      <td>2.817560</td>\n",
              "      <td>5.418570</td>\n",
              "      <td>0</td>\n",
              "      <td>0</td>\n",
              "    </tr>\n",
              "    <tr>\n",
              "      <th>88828</th>\n",
              "      <td>11.952700</td>\n",
              "      <td>1.738450</td>\n",
              "      <td>4.215360</td>\n",
              "      <td>5.602480</td>\n",
              "      <td>0</td>\n",
              "      <td>0</td>\n",
              "    </tr>\n",
              "    <tr>\n",
              "      <th>88829</th>\n",
              "      <td>6.530280</td>\n",
              "      <td>-3.127760</td>\n",
              "      <td>-2.620330</td>\n",
              "      <td>-3.159950</td>\n",
              "      <td>0</td>\n",
              "      <td>0</td>\n",
              "    </tr>\n",
              "    <tr>\n",
              "      <th>88830</th>\n",
              "      <td>-8.614460</td>\n",
              "      <td>5.420640</td>\n",
              "      <td>-6.559170</td>\n",
              "      <td>-0.519373</td>\n",
              "      <td>0</td>\n",
              "      <td>0</td>\n",
              "    </tr>\n",
              "    <tr>\n",
              "      <th>88831</th>\n",
              "      <td>-13.777300</td>\n",
              "      <td>2.096510</td>\n",
              "      <td>-0.539919</td>\n",
              "      <td>-2.721940</td>\n",
              "      <td>0</td>\n",
              "      <td>0</td>\n",
              "    </tr>\n",
              "  </tbody>\n",
              "</table>\n",
              "<p>88832 rows × 6 columns</p>\n",
              "</div>\n",
              "      <button class=\"colab-df-convert\" onclick=\"convertToInteractive('df-a83c0ef7-3247-4854-a2a7-a4b3e6852c11')\"\n",
              "              title=\"Convert this dataframe to an interactive table.\"\n",
              "              style=\"display:none;\">\n",
              "        \n",
              "  <svg xmlns=\"http://www.w3.org/2000/svg\" height=\"24px\"viewBox=\"0 0 24 24\"\n",
              "       width=\"24px\">\n",
              "    <path d=\"M0 0h24v24H0V0z\" fill=\"none\"/>\n",
              "    <path d=\"M18.56 5.44l.94 2.06.94-2.06 2.06-.94-2.06-.94-.94-2.06-.94 2.06-2.06.94zm-11 1L8.5 8.5l.94-2.06 2.06-.94-2.06-.94L8.5 2.5l-.94 2.06-2.06.94zm10 10l.94 2.06.94-2.06 2.06-.94-2.06-.94-.94-2.06-.94 2.06-2.06.94z\"/><path d=\"M17.41 7.96l-1.37-1.37c-.4-.4-.92-.59-1.43-.59-.52 0-1.04.2-1.43.59L10.3 9.45l-7.72 7.72c-.78.78-.78 2.05 0 2.83L4 21.41c.39.39.9.59 1.41.59.51 0 1.02-.2 1.41-.59l7.78-7.78 2.81-2.81c.8-.78.8-2.07 0-2.86zM5.41 20L4 18.59l7.72-7.72 1.47 1.35L5.41 20z\"/>\n",
              "  </svg>\n",
              "      </button>\n",
              "      \n",
              "  <style>\n",
              "    .colab-df-container {\n",
              "      display:flex;\n",
              "      flex-wrap:wrap;\n",
              "      gap: 12px;\n",
              "    }\n",
              "\n",
              "    .colab-df-convert {\n",
              "      background-color: #E8F0FE;\n",
              "      border: none;\n",
              "      border-radius: 50%;\n",
              "      cursor: pointer;\n",
              "      display: none;\n",
              "      fill: #1967D2;\n",
              "      height: 32px;\n",
              "      padding: 0 0 0 0;\n",
              "      width: 32px;\n",
              "    }\n",
              "\n",
              "    .colab-df-convert:hover {\n",
              "      background-color: #E2EBFA;\n",
              "      box-shadow: 0px 1px 2px rgba(60, 64, 67, 0.3), 0px 1px 3px 1px rgba(60, 64, 67, 0.15);\n",
              "      fill: #174EA6;\n",
              "    }\n",
              "\n",
              "    [theme=dark] .colab-df-convert {\n",
              "      background-color: #3B4455;\n",
              "      fill: #D2E3FC;\n",
              "    }\n",
              "\n",
              "    [theme=dark] .colab-df-convert:hover {\n",
              "      background-color: #434B5C;\n",
              "      box-shadow: 0px 1px 3px 1px rgba(0, 0, 0, 0.15);\n",
              "      filter: drop-shadow(0px 1px 2px rgba(0, 0, 0, 0.3));\n",
              "      fill: #FFFFFF;\n",
              "    }\n",
              "  </style>\n",
              "\n",
              "      <script>\n",
              "        const buttonEl =\n",
              "          document.querySelector('#df-a83c0ef7-3247-4854-a2a7-a4b3e6852c11 button.colab-df-convert');\n",
              "        buttonEl.style.display =\n",
              "          google.colab.kernel.accessAllowed ? 'block' : 'none';\n",
              "\n",
              "        async function convertToInteractive(key) {\n",
              "          const element = document.querySelector('#df-a83c0ef7-3247-4854-a2a7-a4b3e6852c11');\n",
              "          const dataTable =\n",
              "            await google.colab.kernel.invokeFunction('convertToInteractive',\n",
              "                                                     [key], {});\n",
              "          if (!dataTable) return;\n",
              "\n",
              "          const docLinkHtml = 'Like what you see? Visit the ' +\n",
              "            '<a target=\"_blank\" href=https://colab.research.google.com/notebooks/data_table.ipynb>data table notebook</a>'\n",
              "            + ' to learn more about interactive tables.';\n",
              "          element.innerHTML = '';\n",
              "          dataTable['output_type'] = 'display_data';\n",
              "          await google.colab.output.renderOutput(dataTable, element);\n",
              "          const docLink = document.createElement('div');\n",
              "          docLink.innerHTML = docLinkHtml;\n",
              "          element.appendChild(docLink);\n",
              "        }\n",
              "      </script>\n",
              "    </div>\n",
              "  </div>\n",
              "  "
            ]
          },
          "metadata": {},
          "execution_count": 319
        }
      ],
      "source": [
        "label_col = [int(0) for j in range(len(df_H0))]\n",
        "load_col=[int(0/100) for j in range(len(df_H0))]\n",
        "df_H0['load']=load_col\n",
        "df_H0['fault']=label_col\n",
        "df_H0"
      ]
    },
    {
      "cell_type": "code",
      "execution_count": null,
      "id": "f3abc89e",
      "metadata": {
        "id": "f3abc89e"
      },
      "outputs": [],
      "source": [
        "df_0load = pd.concat([df_F0,df_H0],axis=0)"
      ]
    },
    {
      "cell_type": "code",
      "source": [
        "df_0load['fault']=1-df_0load['fault']"
      ],
      "metadata": {
        "id": "BS-6swW-dzHY"
      },
      "id": "BS-6swW-dzHY",
      "execution_count": null,
      "outputs": []
    },
    {
      "cell_type": "code",
      "execution_count": null,
      "id": "a6a90b88",
      "metadata": {
        "colab": {
          "base_uri": "https://localhost:8080/",
          "height": 423
        },
        "id": "a6a90b88",
        "outputId": "77ced81d-d329-4665-feb3-4ace13860758"
      },
      "outputs": [
        {
          "output_type": "execute_result",
          "data": {
            "text/plain": [
              "              a1        a2        a3        a4  load  fault\n",
              "0       2.350390  1.454870 -1.667080 -2.055610     0      0\n",
              "1       2.452970  1.400100 -2.825100  0.984487     0      0\n",
              "2      -0.241284 -0.267390  0.793540  0.605862     0      0\n",
              "3       1.130270 -0.890918  0.696969  0.613068     0      0\n",
              "4      -1.296140  0.980479 -1.130560 -0.346971     0      0\n",
              "...          ...       ...       ...       ...   ...    ...\n",
              "88827   2.809130 -3.421020  2.817560  5.418570     0      1\n",
              "88828  11.952700  1.738450  4.215360  5.602480     0      1\n",
              "88829   6.530280 -3.127760 -2.620330 -3.159950     0      1\n",
              "88830  -8.614460  5.420640 -6.559170 -0.519373     0      1\n",
              "88831 -13.777300  2.096510 -0.539919 -2.721940     0      1\n",
              "\n",
              "[177152 rows x 6 columns]"
            ],
            "text/html": [
              "\n",
              "  <div id=\"df-b460a7be-3b82-45ab-985c-dfed50689a2d\">\n",
              "    <div class=\"colab-df-container\">\n",
              "      <div>\n",
              "<style scoped>\n",
              "    .dataframe tbody tr th:only-of-type {\n",
              "        vertical-align: middle;\n",
              "    }\n",
              "\n",
              "    .dataframe tbody tr th {\n",
              "        vertical-align: top;\n",
              "    }\n",
              "\n",
              "    .dataframe thead th {\n",
              "        text-align: right;\n",
              "    }\n",
              "</style>\n",
              "<table border=\"1\" class=\"dataframe\">\n",
              "  <thead>\n",
              "    <tr style=\"text-align: right;\">\n",
              "      <th></th>\n",
              "      <th>a1</th>\n",
              "      <th>a2</th>\n",
              "      <th>a3</th>\n",
              "      <th>a4</th>\n",
              "      <th>load</th>\n",
              "      <th>fault</th>\n",
              "    </tr>\n",
              "  </thead>\n",
              "  <tbody>\n",
              "    <tr>\n",
              "      <th>0</th>\n",
              "      <td>2.350390</td>\n",
              "      <td>1.454870</td>\n",
              "      <td>-1.667080</td>\n",
              "      <td>-2.055610</td>\n",
              "      <td>0</td>\n",
              "      <td>0</td>\n",
              "    </tr>\n",
              "    <tr>\n",
              "      <th>1</th>\n",
              "      <td>2.452970</td>\n",
              "      <td>1.400100</td>\n",
              "      <td>-2.825100</td>\n",
              "      <td>0.984487</td>\n",
              "      <td>0</td>\n",
              "      <td>0</td>\n",
              "    </tr>\n",
              "    <tr>\n",
              "      <th>2</th>\n",
              "      <td>-0.241284</td>\n",
              "      <td>-0.267390</td>\n",
              "      <td>0.793540</td>\n",
              "      <td>0.605862</td>\n",
              "      <td>0</td>\n",
              "      <td>0</td>\n",
              "    </tr>\n",
              "    <tr>\n",
              "      <th>3</th>\n",
              "      <td>1.130270</td>\n",
              "      <td>-0.890918</td>\n",
              "      <td>0.696969</td>\n",
              "      <td>0.613068</td>\n",
              "      <td>0</td>\n",
              "      <td>0</td>\n",
              "    </tr>\n",
              "    <tr>\n",
              "      <th>4</th>\n",
              "      <td>-1.296140</td>\n",
              "      <td>0.980479</td>\n",
              "      <td>-1.130560</td>\n",
              "      <td>-0.346971</td>\n",
              "      <td>0</td>\n",
              "      <td>0</td>\n",
              "    </tr>\n",
              "    <tr>\n",
              "      <th>...</th>\n",
              "      <td>...</td>\n",
              "      <td>...</td>\n",
              "      <td>...</td>\n",
              "      <td>...</td>\n",
              "      <td>...</td>\n",
              "      <td>...</td>\n",
              "    </tr>\n",
              "    <tr>\n",
              "      <th>88827</th>\n",
              "      <td>2.809130</td>\n",
              "      <td>-3.421020</td>\n",
              "      <td>2.817560</td>\n",
              "      <td>5.418570</td>\n",
              "      <td>0</td>\n",
              "      <td>1</td>\n",
              "    </tr>\n",
              "    <tr>\n",
              "      <th>88828</th>\n",
              "      <td>11.952700</td>\n",
              "      <td>1.738450</td>\n",
              "      <td>4.215360</td>\n",
              "      <td>5.602480</td>\n",
              "      <td>0</td>\n",
              "      <td>1</td>\n",
              "    </tr>\n",
              "    <tr>\n",
              "      <th>88829</th>\n",
              "      <td>6.530280</td>\n",
              "      <td>-3.127760</td>\n",
              "      <td>-2.620330</td>\n",
              "      <td>-3.159950</td>\n",
              "      <td>0</td>\n",
              "      <td>1</td>\n",
              "    </tr>\n",
              "    <tr>\n",
              "      <th>88830</th>\n",
              "      <td>-8.614460</td>\n",
              "      <td>5.420640</td>\n",
              "      <td>-6.559170</td>\n",
              "      <td>-0.519373</td>\n",
              "      <td>0</td>\n",
              "      <td>1</td>\n",
              "    </tr>\n",
              "    <tr>\n",
              "      <th>88831</th>\n",
              "      <td>-13.777300</td>\n",
              "      <td>2.096510</td>\n",
              "      <td>-0.539919</td>\n",
              "      <td>-2.721940</td>\n",
              "      <td>0</td>\n",
              "      <td>1</td>\n",
              "    </tr>\n",
              "  </tbody>\n",
              "</table>\n",
              "<p>177152 rows × 6 columns</p>\n",
              "</div>\n",
              "      <button class=\"colab-df-convert\" onclick=\"convertToInteractive('df-b460a7be-3b82-45ab-985c-dfed50689a2d')\"\n",
              "              title=\"Convert this dataframe to an interactive table.\"\n",
              "              style=\"display:none;\">\n",
              "        \n",
              "  <svg xmlns=\"http://www.w3.org/2000/svg\" height=\"24px\"viewBox=\"0 0 24 24\"\n",
              "       width=\"24px\">\n",
              "    <path d=\"M0 0h24v24H0V0z\" fill=\"none\"/>\n",
              "    <path d=\"M18.56 5.44l.94 2.06.94-2.06 2.06-.94-2.06-.94-.94-2.06-.94 2.06-2.06.94zm-11 1L8.5 8.5l.94-2.06 2.06-.94-2.06-.94L8.5 2.5l-.94 2.06-2.06.94zm10 10l.94 2.06.94-2.06 2.06-.94-2.06-.94-.94-2.06-.94 2.06-2.06.94z\"/><path d=\"M17.41 7.96l-1.37-1.37c-.4-.4-.92-.59-1.43-.59-.52 0-1.04.2-1.43.59L10.3 9.45l-7.72 7.72c-.78.78-.78 2.05 0 2.83L4 21.41c.39.39.9.59 1.41.59.51 0 1.02-.2 1.41-.59l7.78-7.78 2.81-2.81c.8-.78.8-2.07 0-2.86zM5.41 20L4 18.59l7.72-7.72 1.47 1.35L5.41 20z\"/>\n",
              "  </svg>\n",
              "      </button>\n",
              "      \n",
              "  <style>\n",
              "    .colab-df-container {\n",
              "      display:flex;\n",
              "      flex-wrap:wrap;\n",
              "      gap: 12px;\n",
              "    }\n",
              "\n",
              "    .colab-df-convert {\n",
              "      background-color: #E8F0FE;\n",
              "      border: none;\n",
              "      border-radius: 50%;\n",
              "      cursor: pointer;\n",
              "      display: none;\n",
              "      fill: #1967D2;\n",
              "      height: 32px;\n",
              "      padding: 0 0 0 0;\n",
              "      width: 32px;\n",
              "    }\n",
              "\n",
              "    .colab-df-convert:hover {\n",
              "      background-color: #E2EBFA;\n",
              "      box-shadow: 0px 1px 2px rgba(60, 64, 67, 0.3), 0px 1px 3px 1px rgba(60, 64, 67, 0.15);\n",
              "      fill: #174EA6;\n",
              "    }\n",
              "\n",
              "    [theme=dark] .colab-df-convert {\n",
              "      background-color: #3B4455;\n",
              "      fill: #D2E3FC;\n",
              "    }\n",
              "\n",
              "    [theme=dark] .colab-df-convert:hover {\n",
              "      background-color: #434B5C;\n",
              "      box-shadow: 0px 1px 3px 1px rgba(0, 0, 0, 0.15);\n",
              "      filter: drop-shadow(0px 1px 2px rgba(0, 0, 0, 0.3));\n",
              "      fill: #FFFFFF;\n",
              "    }\n",
              "  </style>\n",
              "\n",
              "      <script>\n",
              "        const buttonEl =\n",
              "          document.querySelector('#df-b460a7be-3b82-45ab-985c-dfed50689a2d button.colab-df-convert');\n",
              "        buttonEl.style.display =\n",
              "          google.colab.kernel.accessAllowed ? 'block' : 'none';\n",
              "\n",
              "        async function convertToInteractive(key) {\n",
              "          const element = document.querySelector('#df-b460a7be-3b82-45ab-985c-dfed50689a2d');\n",
              "          const dataTable =\n",
              "            await google.colab.kernel.invokeFunction('convertToInteractive',\n",
              "                                                     [key], {});\n",
              "          if (!dataTable) return;\n",
              "\n",
              "          const docLinkHtml = 'Like what you see? Visit the ' +\n",
              "            '<a target=\"_blank\" href=https://colab.research.google.com/notebooks/data_table.ipynb>data table notebook</a>'\n",
              "            + ' to learn more about interactive tables.';\n",
              "          element.innerHTML = '';\n",
              "          dataTable['output_type'] = 'display_data';\n",
              "          await google.colab.output.renderOutput(dataTable, element);\n",
              "          const docLink = document.createElement('div');\n",
              "          docLink.innerHTML = docLinkHtml;\n",
              "          element.appendChild(docLink);\n",
              "        }\n",
              "      </script>\n",
              "    </div>\n",
              "  </div>\n",
              "  "
            ]
          },
          "metadata": {},
          "execution_count": 322
        }
      ],
      "source": [
        "df_0load"
      ]
    },
    {
      "cell_type": "code",
      "source": [
        "df_0load['tot']=df_0load['a1']*df_0load['a1']+df_0load['a2']*df_0load['a2']+df_0load['a3']*df_0load['a3']+df_0load['a4']*df_0load['a4']"
      ],
      "metadata": {
        "id": "l2mysuB-NJbA"
      },
      "id": "l2mysuB-NJbA",
      "execution_count": null,
      "outputs": []
    },
    {
      "cell_type": "code",
      "execution_count": null,
      "id": "fb9a46b1",
      "metadata": {
        "colab": {
          "base_uri": "https://localhost:8080/",
          "height": 300
        },
        "id": "fb9a46b1",
        "outputId": "ee3d8b4f-5368-4664-825d-c0469dd87e1e"
      },
      "outputs": [
        {
          "output_type": "execute_result",
          "data": {
            "text/plain": [
              "                  a1             a2             a3             a4      load  \\\n",
              "count  177152.000000  177152.000000  177152.000000  177152.000000  177152.0   \n",
              "mean       -0.011448       0.007617      -0.018023      -0.006159       0.0   \n",
              "std         4.901857       4.041203       3.177481       3.346755       0.0   \n",
              "min       -38.414400     -29.159600     -21.264100     -23.450000       0.0   \n",
              "25%        -2.393790      -2.007557      -1.652553      -1.789515       0.0   \n",
              "50%         0.009984       0.057149      -0.026416       0.005622       0.0   \n",
              "75%         2.368275       2.138662       1.644583       1.791345       0.0   \n",
              "max        39.267700      29.214600      18.821600      25.977600       0.0   \n",
              "\n",
              "               fault            tot  \n",
              "count  177152.000000  177152.000000  \n",
              "mean        0.501445      61.656876  \n",
              "std         0.499999      92.557032  \n",
              "min         0.000000       0.029749  \n",
              "25%         0.000000      12.621618  \n",
              "50%         1.000000      30.606729  \n",
              "75%         1.000000      73.022422  \n",
              "max         1.000000    2571.782926  "
            ],
            "text/html": [
              "\n",
              "  <div id=\"df-f066feb6-587d-41ac-a9a7-57d88634cb4b\">\n",
              "    <div class=\"colab-df-container\">\n",
              "      <div>\n",
              "<style scoped>\n",
              "    .dataframe tbody tr th:only-of-type {\n",
              "        vertical-align: middle;\n",
              "    }\n",
              "\n",
              "    .dataframe tbody tr th {\n",
              "        vertical-align: top;\n",
              "    }\n",
              "\n",
              "    .dataframe thead th {\n",
              "        text-align: right;\n",
              "    }\n",
              "</style>\n",
              "<table border=\"1\" class=\"dataframe\">\n",
              "  <thead>\n",
              "    <tr style=\"text-align: right;\">\n",
              "      <th></th>\n",
              "      <th>a1</th>\n",
              "      <th>a2</th>\n",
              "      <th>a3</th>\n",
              "      <th>a4</th>\n",
              "      <th>load</th>\n",
              "      <th>fault</th>\n",
              "      <th>tot</th>\n",
              "    </tr>\n",
              "  </thead>\n",
              "  <tbody>\n",
              "    <tr>\n",
              "      <th>count</th>\n",
              "      <td>177152.000000</td>\n",
              "      <td>177152.000000</td>\n",
              "      <td>177152.000000</td>\n",
              "      <td>177152.000000</td>\n",
              "      <td>177152.0</td>\n",
              "      <td>177152.000000</td>\n",
              "      <td>177152.000000</td>\n",
              "    </tr>\n",
              "    <tr>\n",
              "      <th>mean</th>\n",
              "      <td>-0.011448</td>\n",
              "      <td>0.007617</td>\n",
              "      <td>-0.018023</td>\n",
              "      <td>-0.006159</td>\n",
              "      <td>0.0</td>\n",
              "      <td>0.501445</td>\n",
              "      <td>61.656876</td>\n",
              "    </tr>\n",
              "    <tr>\n",
              "      <th>std</th>\n",
              "      <td>4.901857</td>\n",
              "      <td>4.041203</td>\n",
              "      <td>3.177481</td>\n",
              "      <td>3.346755</td>\n",
              "      <td>0.0</td>\n",
              "      <td>0.499999</td>\n",
              "      <td>92.557032</td>\n",
              "    </tr>\n",
              "    <tr>\n",
              "      <th>min</th>\n",
              "      <td>-38.414400</td>\n",
              "      <td>-29.159600</td>\n",
              "      <td>-21.264100</td>\n",
              "      <td>-23.450000</td>\n",
              "      <td>0.0</td>\n",
              "      <td>0.000000</td>\n",
              "      <td>0.029749</td>\n",
              "    </tr>\n",
              "    <tr>\n",
              "      <th>25%</th>\n",
              "      <td>-2.393790</td>\n",
              "      <td>-2.007557</td>\n",
              "      <td>-1.652553</td>\n",
              "      <td>-1.789515</td>\n",
              "      <td>0.0</td>\n",
              "      <td>0.000000</td>\n",
              "      <td>12.621618</td>\n",
              "    </tr>\n",
              "    <tr>\n",
              "      <th>50%</th>\n",
              "      <td>0.009984</td>\n",
              "      <td>0.057149</td>\n",
              "      <td>-0.026416</td>\n",
              "      <td>0.005622</td>\n",
              "      <td>0.0</td>\n",
              "      <td>1.000000</td>\n",
              "      <td>30.606729</td>\n",
              "    </tr>\n",
              "    <tr>\n",
              "      <th>75%</th>\n",
              "      <td>2.368275</td>\n",
              "      <td>2.138662</td>\n",
              "      <td>1.644583</td>\n",
              "      <td>1.791345</td>\n",
              "      <td>0.0</td>\n",
              "      <td>1.000000</td>\n",
              "      <td>73.022422</td>\n",
              "    </tr>\n",
              "    <tr>\n",
              "      <th>max</th>\n",
              "      <td>39.267700</td>\n",
              "      <td>29.214600</td>\n",
              "      <td>18.821600</td>\n",
              "      <td>25.977600</td>\n",
              "      <td>0.0</td>\n",
              "      <td>1.000000</td>\n",
              "      <td>2571.782926</td>\n",
              "    </tr>\n",
              "  </tbody>\n",
              "</table>\n",
              "</div>\n",
              "      <button class=\"colab-df-convert\" onclick=\"convertToInteractive('df-f066feb6-587d-41ac-a9a7-57d88634cb4b')\"\n",
              "              title=\"Convert this dataframe to an interactive table.\"\n",
              "              style=\"display:none;\">\n",
              "        \n",
              "  <svg xmlns=\"http://www.w3.org/2000/svg\" height=\"24px\"viewBox=\"0 0 24 24\"\n",
              "       width=\"24px\">\n",
              "    <path d=\"M0 0h24v24H0V0z\" fill=\"none\"/>\n",
              "    <path d=\"M18.56 5.44l.94 2.06.94-2.06 2.06-.94-2.06-.94-.94-2.06-.94 2.06-2.06.94zm-11 1L8.5 8.5l.94-2.06 2.06-.94-2.06-.94L8.5 2.5l-.94 2.06-2.06.94zm10 10l.94 2.06.94-2.06 2.06-.94-2.06-.94-.94-2.06-.94 2.06-2.06.94z\"/><path d=\"M17.41 7.96l-1.37-1.37c-.4-.4-.92-.59-1.43-.59-.52 0-1.04.2-1.43.59L10.3 9.45l-7.72 7.72c-.78.78-.78 2.05 0 2.83L4 21.41c.39.39.9.59 1.41.59.51 0 1.02-.2 1.41-.59l7.78-7.78 2.81-2.81c.8-.78.8-2.07 0-2.86zM5.41 20L4 18.59l7.72-7.72 1.47 1.35L5.41 20z\"/>\n",
              "  </svg>\n",
              "      </button>\n",
              "      \n",
              "  <style>\n",
              "    .colab-df-container {\n",
              "      display:flex;\n",
              "      flex-wrap:wrap;\n",
              "      gap: 12px;\n",
              "    }\n",
              "\n",
              "    .colab-df-convert {\n",
              "      background-color: #E8F0FE;\n",
              "      border: none;\n",
              "      border-radius: 50%;\n",
              "      cursor: pointer;\n",
              "      display: none;\n",
              "      fill: #1967D2;\n",
              "      height: 32px;\n",
              "      padding: 0 0 0 0;\n",
              "      width: 32px;\n",
              "    }\n",
              "\n",
              "    .colab-df-convert:hover {\n",
              "      background-color: #E2EBFA;\n",
              "      box-shadow: 0px 1px 2px rgba(60, 64, 67, 0.3), 0px 1px 3px 1px rgba(60, 64, 67, 0.15);\n",
              "      fill: #174EA6;\n",
              "    }\n",
              "\n",
              "    [theme=dark] .colab-df-convert {\n",
              "      background-color: #3B4455;\n",
              "      fill: #D2E3FC;\n",
              "    }\n",
              "\n",
              "    [theme=dark] .colab-df-convert:hover {\n",
              "      background-color: #434B5C;\n",
              "      box-shadow: 0px 1px 3px 1px rgba(0, 0, 0, 0.15);\n",
              "      filter: drop-shadow(0px 1px 2px rgba(0, 0, 0, 0.3));\n",
              "      fill: #FFFFFF;\n",
              "    }\n",
              "  </style>\n",
              "\n",
              "      <script>\n",
              "        const buttonEl =\n",
              "          document.querySelector('#df-f066feb6-587d-41ac-a9a7-57d88634cb4b button.colab-df-convert');\n",
              "        buttonEl.style.display =\n",
              "          google.colab.kernel.accessAllowed ? 'block' : 'none';\n",
              "\n",
              "        async function convertToInteractive(key) {\n",
              "          const element = document.querySelector('#df-f066feb6-587d-41ac-a9a7-57d88634cb4b');\n",
              "          const dataTable =\n",
              "            await google.colab.kernel.invokeFunction('convertToInteractive',\n",
              "                                                     [key], {});\n",
              "          if (!dataTable) return;\n",
              "\n",
              "          const docLinkHtml = 'Like what you see? Visit the ' +\n",
              "            '<a target=\"_blank\" href=https://colab.research.google.com/notebooks/data_table.ipynb>data table notebook</a>'\n",
              "            + ' to learn more about interactive tables.';\n",
              "          element.innerHTML = '';\n",
              "          dataTable['output_type'] = 'display_data';\n",
              "          await google.colab.output.renderOutput(dataTable, element);\n",
              "          const docLink = document.createElement('div');\n",
              "          docLink.innerHTML = docLinkHtml;\n",
              "          element.appendChild(docLink);\n",
              "        }\n",
              "      </script>\n",
              "    </div>\n",
              "  </div>\n",
              "  "
            ]
          },
          "metadata": {},
          "execution_count": 324
        }
      ],
      "source": [
        "df_0load.describe()"
      ]
    },
    {
      "cell_type": "code",
      "execution_count": null,
      "id": "c2eaa98e",
      "metadata": {
        "colab": {
          "base_uri": "https://localhost:8080/",
          "height": 1000
        },
        "id": "c2eaa98e",
        "outputId": "4f595569-bd54-4524-c8e3-84026be935c8"
      },
      "outputs": [
        {
          "output_type": "execute_result",
          "data": {
            "text/plain": [
              "array([[<matplotlib.axes._subplots.AxesSubplot object at 0x7fb6831a6b90>,\n",
              "        <matplotlib.axes._subplots.AxesSubplot object at 0x7fb6830d8210>,\n",
              "        <matplotlib.axes._subplots.AxesSubplot object at 0x7fb68308a690>],\n",
              "       [<matplotlib.axes._subplots.AxesSubplot object at 0x7fb68303cb90>,\n",
              "        <matplotlib.axes._subplots.AxesSubplot object at 0x7fb6830010d0>,\n",
              "        <matplotlib.axes._subplots.AxesSubplot object at 0x7fb6830375d0>],\n",
              "       [<matplotlib.axes._subplots.AxesSubplot object at 0x7fb682fecb50>,\n",
              "        <matplotlib.axes._subplots.AxesSubplot object at 0x7fb682f899d0>,\n",
              "        <matplotlib.axes._subplots.AxesSubplot object at 0x7fb682fb0050>]],\n",
              "      dtype=object)"
            ]
          },
          "metadata": {},
          "execution_count": 325
        },
        {
          "output_type": "display_data",
          "data": {
            "text/plain": [
              "<Figure size 1440x1080 with 9 Axes>"
            ],
            "image/png": "[encoded data removed]"
          },
          "metadata": {
            "needs_background": "light"
          }
        }
      ],
      "source": [
        "%matplotlib inline\n",
        "import matplotlib.pyplot as plt\n",
        "df_0load.hist(bins=50, figsize=(20,15))"
      ]
    },
    {
      "cell_type": "code",
      "execution_count": null,
      "id": "32570041",
      "metadata": {
        "id": "32570041"
      },
      "outputs": [],
      "source": [
        "\n",
        "def split_train_test(data):\n",
        "    np.random.seed(42)\n",
        "    shuffled=np.random.permutation(len(data))\n",
        "    test_set_size=5000\n",
        "    train_set_size=20000\n",
        "    test_indices=shuffled[:test_set_size]\n",
        "    train_indices=shuffled[len(data)-train_set_size:]\n",
        "    return data.iloc[train_indices] , data.iloc[test_indices]"
      ]
    },
    {
      "cell_type": "code",
      "execution_count": null,
      "id": "edc36177",
      "metadata": {
        "id": "edc36177"
      },
      "outputs": [],
      "source": [
        "train_set,test_set=split_train_test(df_0load)"
      ]
    },
    {
      "cell_type": "code",
      "execution_count": null,
      "id": "acbd33f8",
      "metadata": {
        "colab": {
          "base_uri": "https://localhost:8080/",
          "height": 423
        },
        "id": "acbd33f8",
        "outputId": "a5e6dcb6-e81a-4434-ea77-2752bc63ea46"
      },
      "outputs": [
        {
          "output_type": "execute_result",
          "data": {
            "text/plain": [
              "             a1        a2        a3        a4  load  fault        tot\n",
              "71012 -2.073530  0.704134 -4.407370  2.271090     0      0  29.378091\n",
              "74821 -4.444930  5.640360  3.166890  3.443950     0      1  73.461048\n",
              "11519  1.003400 -0.491268 -4.071490  1.401480     0      1  19.789333\n",
              "71948  6.966630  0.388186 -5.801700  1.503850     0      1  84.605910\n",
              "59639  3.110250  1.938760 -3.533020  0.768689     0      1  26.505558\n",
              "...         ...       ...       ...       ...   ...    ...        ...\n",
              "512    2.621600  7.214120 -3.458080  1.348230     0      0  72.692355\n",
              "62743 -4.268720  1.459630  2.966730 -1.589490     0      1  31.680456\n",
              "37390 -1.767040  0.038393 -0.983613  2.153870     0      0   8.730555\n",
              "53794 -3.190600  3.005460 -4.014700 -2.145090     0      0  39.931945\n",
              "20795 -0.330229 -2.948290  2.459370  0.257213     0      1  14.916124\n",
              "\n",
              "[5000 rows x 7 columns]"
            ],
            "text/html": [
              "\n",
              "  <div id=\"df-fd4846df-ae1c-4320-bbbb-575e1d1c3c31\">\n",
              "    <div class=\"colab-df-container\">\n",
              "      <div>\n",
              "<style scoped>\n",
              "    .dataframe tbody tr th:only-of-type {\n",
              "        vertical-align: middle;\n",
              "    }\n",
              "\n",
              "    .dataframe tbody tr th {\n",
              "        vertical-align: top;\n",
              "    }\n",
              "\n",
              "    .dataframe thead th {\n",
              "        text-align: right;\n",
              "    }\n",
              "</style>\n",
              "<table border=\"1\" class=\"dataframe\">\n",
              "  <thead>\n",
              "    <tr style=\"text-align: right;\">\n",
              "      <th></th>\n",
              "      <th>a1</th>\n",
              "      <th>a2</th>\n",
              "      <th>a3</th>\n",
              "      <th>a4</th>\n",
              "      <th>load</th>\n",
              "      <th>fault</th>\n",
              "      <th>tot</th>\n",
              "    </tr>\n",
              "  </thead>\n",
              "  <tbody>\n",
              "    <tr>\n",
              "      <th>71012</th>\n",
              "      <td>-2.073530</td>\n",
              "      <td>0.704134</td>\n",
              "      <td>-4.407370</td>\n",
              "      <td>2.271090</td>\n",
              "      <td>0</td>\n",
              "      <td>0</td>\n",
              "      <td>29.378091</td>\n",
              "    </tr>\n",
              "    <tr>\n",
              "      <th>74821</th>\n",
              "      <td>-4.444930</td>\n",
              "      <td>5.640360</td>\n",
              "      <td>3.166890</td>\n",
              "      <td>3.443950</td>\n",
              "      <td>0</td>\n",
              "      <td>1</td>\n",
              "      <td>73.461048</td>\n",
              "    </tr>\n",
              "    <tr>\n",
              "      <th>11519</th>\n",
              "      <td>1.003400</td>\n",
              "      <td>-0.491268</td>\n",
              "      <td>-4.071490</td>\n",
              "      <td>1.401480</td>\n",
              "      <td>0</td>\n",
              "      <td>1</td>\n",
              "      <td>19.789333</td>\n",
              "    </tr>\n",
              "    <tr>\n",
              "      <th>71948</th>\n",
              "      <td>6.966630</td>\n",
              "      <td>0.388186</td>\n",
              "      <td>-5.801700</td>\n",
              "      <td>1.503850</td>\n",
              "      <td>0</td>\n",
              "      <td>1</td>\n",
              "      <td>84.605910</td>\n",
              "    </tr>\n",
              "    <tr>\n",
              "      <th>59639</th>\n",
              "      <td>3.110250</td>\n",
              "      <td>1.938760</td>\n",
              "      <td>-3.533020</td>\n",
              "      <td>0.768689</td>\n",
              "      <td>0</td>\n",
              "      <td>1</td>\n",
              "      <td>26.505558</td>\n",
              "    </tr>\n",
              "    <tr>\n",
              "      <th>...</th>\n",
              "      <td>...</td>\n",
              "      <td>...</td>\n",
              "      <td>...</td>\n",
              "      <td>...</td>\n",
              "      <td>...</td>\n",
              "      <td>...</td>\n",
              "      <td>...</td>\n",
              "    </tr>\n",
              "    <tr>\n",
              "      <th>512</th>\n",
              "      <td>2.621600</td>\n",
              "      <td>7.214120</td>\n",
              "      <td>-3.458080</td>\n",
              "      <td>1.348230</td>\n",
              "      <td>0</td>\n",
              "      <td>0</td>\n",
              "      <td>72.692355</td>\n",
              "    </tr>\n",
              "    <tr>\n",
              "      <th>62743</th>\n",
              "      <td>-4.268720</td>\n",
              "      <td>1.459630</td>\n",
              "      <td>2.966730</td>\n",
              "      <td>-1.589490</td>\n",
              "      <td>0</td>\n",
              "      <td>1</td>\n",
              "      <td>31.680456</td>\n",
              "    </tr>\n",
              "    <tr>\n",
              "      <th>37390</th>\n",
              "      <td>-1.767040</td>\n",
              "      <td>0.038393</td>\n",
              "      <td>-0.983613</td>\n",
              "      <td>2.153870</td>\n",
              "      <td>0</td>\n",
              "      <td>0</td>\n",
              "      <td>8.730555</td>\n",
              "    </tr>\n",
              "    <tr>\n",
              "      <th>53794</th>\n",
              "      <td>-3.190600</td>\n",
              "      <td>3.005460</td>\n",
              "      <td>-4.014700</td>\n",
              "      <td>-2.145090</td>\n",
              "      <td>0</td>\n",
              "      <td>0</td>\n",
              "      <td>39.931945</td>\n",
              "    </tr>\n",
              "    <tr>\n",
              "      <th>20795</th>\n",
              "      <td>-0.330229</td>\n",
              "      <td>-2.948290</td>\n",
              "      <td>2.459370</td>\n",
              "      <td>0.257213</td>\n",
              "      <td>0</td>\n",
              "      <td>1</td>\n",
              "      <td>14.916124</td>\n",
              "    </tr>\n",
              "  </tbody>\n",
              "</table>\n",
              "<p>5000 rows × 7 columns</p>\n",
              "</div>\n",
              "      <button class=\"colab-df-convert\" onclick=\"convertToInteractive('df-fd4846df-ae1c-4320-bbbb-575e1d1c3c31')\"\n",
              "              title=\"Convert this dataframe to an interactive table.\"\n",
              "              style=\"display:none;\">\n",
              "        \n",
              "  <svg xmlns=\"http://www.w3.org/2000/svg\" height=\"24px\"viewBox=\"0 0 24 24\"\n",
              "       width=\"24px\">\n",
              "    <path d=\"M0 0h24v24H0V0z\" fill=\"none\"/>\n",
              "    <path d=\"M18.56 5.44l.94 2.06.94-2.06 2.06-.94-2.06-.94-.94-2.06-.94 2.06-2.06.94zm-11 1L8.5 8.5l.94-2.06 2.06-.94-2.06-.94L8.5 2.5l-.94 2.06-2.06.94zm10 10l.94 2.06.94-2.06 2.06-.94-2.06-.94-.94-2.06-.94 2.06-2.06.94z\"/><path d=\"M17.41 7.96l-1.37-1.37c-.4-.4-.92-.59-1.43-.59-.52 0-1.04.2-1.43.59L10.3 9.45l-7.72 7.72c-.78.78-.78 2.05 0 2.83L4 21.41c.39.39.9.59 1.41.59.51 0 1.02-.2 1.41-.59l7.78-7.78 2.81-2.81c.8-.78.8-2.07 0-2.86zM5.41 20L4 18.59l7.72-7.72 1.47 1.35L5.41 20z\"/>\n",
              "  </svg>\n",
              "      </button>\n",
              "      \n",
              "  <style>\n",
              "    .colab-df-container {\n",
              "      display:flex;\n",
              "      flex-wrap:wrap;\n",
              "      gap: 12px;\n",
              "    }\n",
              "\n",
              "    .colab-df-convert {\n",
              "      background-color: #E8F0FE;\n",
              "      border: none;\n",
              "      border-radius: 50%;\n",
              "      cursor: pointer;\n",
              "      display: none;\n",
              "      fill: #1967D2;\n",
              "      height: 32px;\n",
              "      padding: 0 0 0 0;\n",
              "      width: 32px;\n",
              "    }\n",
              "\n",
              "    .colab-df-convert:hover {\n",
              "      background-color: #E2EBFA;\n",
              "      box-shadow: 0px 1px 2px rgba(60, 64, 67, 0.3), 0px 1px 3px 1px rgba(60, 64, 67, 0.15);\n",
              "      fill: #174EA6;\n",
              "    }\n",
              "\n",
              "    [theme=dark] .colab-df-convert {\n",
              "      background-color: #3B4455;\n",
              "      fill: #D2E3FC;\n",
              "    }\n",
              "\n",
              "    [theme=dark] .colab-df-convert:hover {\n",
              "      background-color: #434B5C;\n",
              "      box-shadow: 0px 1px 3px 1px rgba(0, 0, 0, 0.15);\n",
              "      filter: drop-shadow(0px 1px 2px rgba(0, 0, 0, 0.3));\n",
              "      fill: #FFFFFF;\n",
              "    }\n",
              "  </style>\n",
              "\n",
              "      <script>\n",
              "        const buttonEl =\n",
              "          document.querySelector('#df-fd4846df-ae1c-4320-bbbb-575e1d1c3c31 button.colab-df-convert');\n",
              "        buttonEl.style.display =\n",
              "          google.colab.kernel.accessAllowed ? 'block' : 'none';\n",
              "\n",
              "        async function convertToInteractive(key) {\n",
              "          const element = document.querySelector('#df-fd4846df-ae1c-4320-bbbb-575e1d1c3c31');\n",
              "          const dataTable =\n",
              "            await google.colab.kernel.invokeFunction('convertToInteractive',\n",
              "                                                     [key], {});\n",
              "          if (!dataTable) return;\n",
              "\n",
              "          const docLinkHtml = 'Like what you see? Visit the ' +\n",
              "            '<a target=\"_blank\" href=https://colab.research.google.com/notebooks/data_table.ipynb>data table notebook</a>'\n",
              "            + ' to learn more about interactive tables.';\n",
              "          element.innerHTML = '';\n",
              "          dataTable['output_type'] = 'display_data';\n",
              "          await google.colab.output.renderOutput(dataTable, element);\n",
              "          const docLink = document.createElement('div');\n",
              "          docLink.innerHTML = docLinkHtml;\n",
              "          element.appendChild(docLink);\n",
              "        }\n",
              "      </script>\n",
              "    </div>\n",
              "  </div>\n",
              "  "
            ]
          },
          "metadata": {},
          "execution_count": 328
        }
      ],
      "source": [
        "test_set"
      ]
    },
    {
      "cell_type": "code",
      "execution_count": null,
      "id": "a4fcc45a",
      "metadata": {
        "colab": {
          "base_uri": "https://localhost:8080/",
          "height": 423
        },
        "id": "a4fcc45a",
        "outputId": "90f9fa0d-a667-4032-f4a1-f17eafa5908f"
      },
      "outputs": [
        {
          "output_type": "execute_result",
          "data": {
            "text/plain": [
              "              a1        a2        a3       a4  load  fault         tot\n",
              "49758  -0.105494 -0.236351 -4.712170  5.05173     0      1   47.791513\n",
              "85261  -1.098050  1.558160 -4.040120  2.47817     0      0   26.097473\n",
              "54004  15.898500 -3.751190  0.848292  2.47315     0      1  273.669799\n",
              "83748   4.230280 -4.521020 -2.281340 -2.98626     0      0   52.457152\n",
              "65572  -3.591400 -0.838603  1.672460  2.82621     0      0   24.385994\n",
              "...          ...       ...       ...      ...   ...    ...         ...\n",
              "31559  -3.062570  1.573180 -1.167130  0.46060     0      1   13.428575\n",
              "15374  -0.620537  0.881969 -0.690425  0.46585     0      1    1.856638\n",
              "43612   0.454921  1.694600  2.151110  1.98004     0      1   11.626455\n",
              "58547   0.553853  1.912240  2.248840 -0.00407     0      1    9.020713\n",
              "33638  11.326000  1.311730  1.078120  1.82509     0      1  134.492208\n",
              "\n",
              "[20000 rows x 7 columns]"
            ],
            "text/html": [
              "\n",
              "  <div id=\"df-c9b7c1a5-d04a-4360-8979-acc0a1a3c6e1\">\n",
              "    <div class=\"colab-df-container\">\n",
              "      <div>\n",
              "<style scoped>\n",
              "    .dataframe tbody tr th:only-of-type {\n",
              "        vertical-align: middle;\n",
              "    }\n",
              "\n",
              "    .dataframe tbody tr th {\n",
              "        vertical-align: top;\n",
              "    }\n",
              "\n",
              "    .dataframe thead th {\n",
              "        text-align: right;\n",
              "    }\n",
              "</style>\n",
              "<table border=\"1\" class=\"dataframe\">\n",
              "  <thead>\n",
              "    <tr style=\"text-align: right;\">\n",
              "      <th></th>\n",
              "      <th>a1</th>\n",
              "      <th>a2</th>\n",
              "      <th>a3</th>\n",
              "      <th>a4</th>\n",
              "      <th>load</th>\n",
              "      <th>fault</th>\n",
              "      <th>tot</th>\n",
              "    </tr>\n",
              "  </thead>\n",
              "  <tbody>\n",
              "    <tr>\n",
              "      <th>49758</th>\n",
              "      <td>-0.105494</td>\n",
              "      <td>-0.236351</td>\n",
              "      <td>-4.712170</td>\n",
              "      <td>5.05173</td>\n",
              "      <td>0</td>\n",
              "      <td>1</td>\n",
              "      <td>47.791513</td>\n",
              "    </tr>\n",
              "    <tr>\n",
              "      <th>85261</th>\n",
              "      <td>-1.098050</td>\n",
              "      <td>1.558160</td>\n",
              "      <td>-4.040120</td>\n",
              "      <td>2.47817</td>\n",
              "      <td>0</td>\n",
              "      <td>0</td>\n",
              "      <td>26.097473</td>\n",
              "    </tr>\n",
              "    <tr>\n",
              "      <th>54004</th>\n",
              "      <td>15.898500</td>\n",
              "      <td>-3.751190</td>\n",
              "      <td>0.848292</td>\n",
              "      <td>2.47315</td>\n",
              "      <td>0</td>\n",
              "      <td>1</td>\n",
              "      <td>273.669799</td>\n",
              "    </tr>\n",
              "    <tr>\n",
              "      <th>83748</th>\n",
              "      <td>4.230280</td>\n",
              "      <td>-4.521020</td>\n",
              "      <td>-2.281340</td>\n",
              "      <td>-2.98626</td>\n",
              "      <td>0</td>\n",
              "      <td>0</td>\n",
              "      <td>52.457152</td>\n",
              "    </tr>\n",
              "    <tr>\n",
              "      <th>65572</th>\n",
              "      <td>-3.591400</td>\n",
              "      <td>-0.838603</td>\n",
              "      <td>1.672460</td>\n",
              "      <td>2.82621</td>\n",
              "      <td>0</td>\n",
              "      <td>0</td>\n",
              "      <td>24.385994</td>\n",
              "    </tr>\n",
              "    <tr>\n",
              "      <th>...</th>\n",
              "      <td>...</td>\n",
              "      <td>...</td>\n",
              "      <td>...</td>\n",
              "      <td>...</td>\n",
              "      <td>...</td>\n",
              "      <td>...</td>\n",
              "      <td>...</td>\n",
              "    </tr>\n",
              "    <tr>\n",
              "      <th>31559</th>\n",
              "      <td>-3.062570</td>\n",
              "      <td>1.573180</td>\n",
              "      <td>-1.167130</td>\n",
              "      <td>0.46060</td>\n",
              "      <td>0</td>\n",
              "      <td>1</td>\n",
              "      <td>13.428575</td>\n",
              "    </tr>\n",
              "    <tr>\n",
              "      <th>15374</th>\n",
              "      <td>-0.620537</td>\n",
              "      <td>0.881969</td>\n",
              "      <td>-0.690425</td>\n",
              "      <td>0.46585</td>\n",
              "      <td>0</td>\n",
              "      <td>1</td>\n",
              "      <td>1.856638</td>\n",
              "    </tr>\n",
              "    <tr>\n",
              "      <th>43612</th>\n",
              "      <td>0.454921</td>\n",
              "      <td>1.694600</td>\n",
              "      <td>2.151110</td>\n",
              "      <td>1.98004</td>\n",
              "      <td>0</td>\n",
              "      <td>1</td>\n",
              "      <td>11.626455</td>\n",
              "    </tr>\n",
              "    <tr>\n",
              "      <th>58547</th>\n",
              "      <td>0.553853</td>\n",
              "      <td>1.912240</td>\n",
              "      <td>2.248840</td>\n",
              "      <td>-0.00407</td>\n",
              "      <td>0</td>\n",
              "      <td>1</td>\n",
              "      <td>9.020713</td>\n",
              "    </tr>\n",
              "    <tr>\n",
              "      <th>33638</th>\n",
              "      <td>11.326000</td>\n",
              "      <td>1.311730</td>\n",
              "      <td>1.078120</td>\n",
              "      <td>1.82509</td>\n",
              "      <td>0</td>\n",
              "      <td>1</td>\n",
              "      <td>134.492208</td>\n",
              "    </tr>\n",
              "  </tbody>\n",
              "</table>\n",
              "<p>20000 rows × 7 columns</p>\n",
              "</div>\n",
              "      <button class=\"colab-df-convert\" onclick=\"convertToInteractive('df-c9b7c1a5-d04a-4360-8979-acc0a1a3c6e1')\"\n",
              "              title=\"Convert this dataframe to an interactive table.\"\n",
              "              style=\"display:none;\">\n",
              "        \n",
              "  <svg xmlns=\"http://www.w3.org/2000/svg\" height=\"24px\"viewBox=\"0 0 24 24\"\n",
              "       width=\"24px\">\n",
              "    <path d=\"M0 0h24v24H0V0z\" fill=\"none\"/>\n",
              "    <path d=\"M18.56 5.44l.94 2.06.94-2.06 2.06-.94-2.06-.94-.94-2.06-.94 2.06-2.06.94zm-11 1L8.5 8.5l.94-2.06 2.06-.94-2.06-.94L8.5 2.5l-.94 2.06-2.06.94zm10 10l.94 2.06.94-2.06 2.06-.94-2.06-.94-.94-2.06-.94 2.06-2.06.94z\"/><path d=\"M17.41 7.96l-1.37-1.37c-.4-.4-.92-.59-1.43-.59-.52 0-1.04.2-1.43.59L10.3 9.45l-7.72 7.72c-.78.78-.78 2.05 0 2.83L4 21.41c.39.39.9.59 1.41.59.51 0 1.02-.2 1.41-.59l7.78-7.78 2.81-2.81c.8-.78.8-2.07 0-2.86zM5.41 20L4 18.59l7.72-7.72 1.47 1.35L5.41 20z\"/>\n",
              "  </svg>\n",
              "      </button>\n",
              "      \n",
              "  <style>\n",
              "    .colab-df-container {\n",
              "      display:flex;\n",
              "      flex-wrap:wrap;\n",
              "      gap: 12px;\n",
              "    }\n",
              "\n",
              "    .colab-df-convert {\n",
              "      background-color: #E8F0FE;\n",
              "      border: none;\n",
              "      border-radius: 50%;\n",
              "      cursor: pointer;\n",
              "      display: none;\n",
              "      fill: #1967D2;\n",
              "      height: 32px;\n",
              "      padding: 0 0 0 0;\n",
              "      width: 32px;\n",
              "    }\n",
              "\n",
              "    .colab-df-convert:hover {\n",
              "      background-color: #E2EBFA;\n",
              "      box-shadow: 0px 1px 2px rgba(60, 64, 67, 0.3), 0px 1px 3px 1px rgba(60, 64, 67, 0.15);\n",
              "      fill: #174EA6;\n",
              "    }\n",
              "\n",
              "    [theme=dark] .colab-df-convert {\n",
              "      background-color: #3B4455;\n",
              "      fill: #D2E3FC;\n",
              "    }\n",
              "\n",
              "    [theme=dark] .colab-df-convert:hover {\n",
              "      background-color: #434B5C;\n",
              "      box-shadow: 0px 1px 3px 1px rgba(0, 0, 0, 0.15);\n",
              "      filter: drop-shadow(0px 1px 2px rgba(0, 0, 0, 0.3));\n",
              "      fill: #FFFFFF;\n",
              "    }\n",
              "  </style>\n",
              "\n",
              "      <script>\n",
              "        const buttonEl =\n",
              "          document.querySelector('#df-c9b7c1a5-d04a-4360-8979-acc0a1a3c6e1 button.colab-df-convert');\n",
              "        buttonEl.style.display =\n",
              "          google.colab.kernel.accessAllowed ? 'block' : 'none';\n",
              "\n",
              "        async function convertToInteractive(key) {\n",
              "          const element = document.querySelector('#df-c9b7c1a5-d04a-4360-8979-acc0a1a3c6e1');\n",
              "          const dataTable =\n",
              "            await google.colab.kernel.invokeFunction('convertToInteractive',\n",
              "                                                     [key], {});\n",
              "          if (!dataTable) return;\n",
              "\n",
              "          const docLinkHtml = 'Like what you see? Visit the ' +\n",
              "            '<a target=\"_blank\" href=https://colab.research.google.com/notebooks/data_table.ipynb>data table notebook</a>'\n",
              "            + ' to learn more about interactive tables.';\n",
              "          element.innerHTML = '';\n",
              "          dataTable['output_type'] = 'display_data';\n",
              "          await google.colab.output.renderOutput(dataTable, element);\n",
              "          const docLink = document.createElement('div');\n",
              "          docLink.innerHTML = docLinkHtml;\n",
              "          element.appendChild(docLink);\n",
              "        }\n",
              "      </script>\n",
              "    </div>\n",
              "  </div>\n",
              "  "
            ]
          },
          "metadata": {},
          "execution_count": 329
        }
      ],
      "source": [
        "train_set"
      ]
    },
    {
      "cell_type": "code",
      "execution_count": null,
      "id": "c23b9f34",
      "metadata": {
        "colab": {
          "base_uri": "https://localhost:8080/"
        },
        "id": "c23b9f34",
        "outputId": "288275a9-392c-430a-96f8-aebb23455ac6"
      },
      "outputs": [
        {
          "output_type": "execute_result",
          "data": {
            "text/plain": [
              "1    2516\n",
              "0    2484\n",
              "Name: fault, dtype: int64"
            ]
          },
          "metadata": {},
          "execution_count": 330
        }
      ],
      "source": [
        "test_set['fault'].value_counts()"
      ]
    },
    {
      "cell_type": "code",
      "source": [
        ""
      ],
      "metadata": {
        "id": "nwWBQCyHdt76"
      },
      "id": "nwWBQCyHdt76",
      "execution_count": null,
      "outputs": []
    },
    {
      "cell_type": "code",
      "execution_count": null,
      "id": "fb42608f",
      "metadata": {
        "colab": {
          "base_uri": "https://localhost:8080/"
        },
        "id": "fb42608f",
        "outputId": "c8746308-5c6c-4e8a-dfa5-9b402bfdbb0b"
      },
      "outputs": [
        {
          "output_type": "execute_result",
          "data": {
            "text/plain": [
              "1    10055\n",
              "0     9945\n",
              "Name: fault, dtype: int64"
            ]
          },
          "metadata": {},
          "execution_count": 331
        }
      ],
      "source": [
        "train_set['fault'].value_counts()"
      ]
    },
    {
      "cell_type": "code",
      "execution_count": null,
      "id": "d94fa0ad",
      "metadata": {
        "id": "d94fa0ad"
      },
      "outputs": [],
      "source": [
        "from sklearn import datasets\n",
        "from sklearn.linear_model import LogisticRegression\n",
        "import matplotlib.pyplot as plt\n",
        "import numpy as np"
      ]
    },
    {
      "cell_type": "code",
      "source": [
        "print(list(train_set.keys()))"
      ],
      "metadata": {
        "colab": {
          "base_uri": "https://localhost:8080/"
        },
        "id": "bG5HDLU7Fmea",
        "outputId": "85f5b1e0-0068-4f58-cbb1-92c43b47016b"
      },
      "id": "bG5HDLU7Fmea",
      "execution_count": null,
      "outputs": [
        {
          "output_type": "stream",
          "name": "stdout",
          "text": [
            "['a1', 'a2', 'a3', 'a4', 'load', 'fault', 'tot']\n"
          ]
        }
      ]
    },
    {
      "cell_type": "code",
      "source": [
        "X_train = train_set['tot'].values.reshape(-1, 1)\n",
        "y_train = train_set['fault'].values.reshape(-1, 1)\n",
        "X_test = train_set['tot'].values.reshape(-1, 1)\n",
        "y_test = train_set['fault'].values.reshape(-1, 1)"
      ],
      "metadata": {
        "id": "2R3K0HQJFOpa"
      },
      "id": "2R3K0HQJFOpa",
      "execution_count": null,
      "outputs": []
    },
    {
      "cell_type": "code",
      "source": [
        "\n",
        "clf = LogisticRegression()\n"
      ],
      "metadata": {
        "id": "GBdiTYSE9ihQ"
      },
      "id": "GBdiTYSE9ihQ",
      "execution_count": null,
      "outputs": []
    },
    {
      "cell_type": "code",
      "source": [
        "clf.fit(X_train,y_train)"
      ],
      "metadata": {
        "colab": {
          "base_uri": "https://localhost:8080/"
        },
        "id": "QI1v9Wu7CqZj",
        "outputId": "81b3523d-82b7-43c3-9e93-f8a039d3b22a"
      },
      "id": "QI1v9Wu7CqZj",
      "execution_count": null,
      "outputs": [
        {
          "output_type": "stream",
          "name": "stderr",
          "text": [
            "/usr/local/lib/python3.7/dist-packages/sklearn/utils/validation.py:993: DataConversionWarning: A column-vector y was passed when a 1d array was expected. Please change the shape of y to (n_samples, ), for example using ravel().\n",
            "  y = column_or_1d(y, warn=True)\n"
          ]
        },
        {
          "output_type": "execute_result",
          "data": {
            "text/plain": [
              "LogisticRegression()"
            ]
          },
          "metadata": {},
          "execution_count": 336
        }
      ]
    },
    {
      "cell_type": "code",
      "source": [
        "e=clf.predict(([[10]]))"
      ],
      "metadata": {
        "id": "P7lSptLYTJP-"
      },
      "id": "P7lSptLYTJP-",
      "execution_count": null,
      "outputs": []
    },
    {
      "cell_type": "code",
      "source": [
        "print(e)"
      ],
      "metadata": {
        "colab": {
          "base_uri": "https://localhost:8080/"
        },
        "id": "LowUN2CUUbhE",
        "outputId": "7511c8c5-8f94-45b6-fa27-a0b5c91d5681"
      },
      "id": "LowUN2CUUbhE",
      "execution_count": null,
      "outputs": [
        {
          "output_type": "stream",
          "name": "stdout",
          "text": [
            "[0]\n"
          ]
        }
      ]
    },
    {
      "cell_type": "code",
      "source": [
        "# y_pred = gridsearch.predict(X_test)\n",
        "# test_score = accuracy_score(y_test, y_pred)\n",
        "# print('Accuracy Score on test data set:', test_score)"
      ],
      "metadata": {
        "id": "uM5vjsUDUd8T"
      },
      "id": "uM5vjsUDUd8T",
      "execution_count": null,
      "outputs": []
    },
    {
      "cell_type": "code",
      "source": [
        "x_new=np.linspace(0,2500,3000).reshape(-1,1)\n",
        "y_prob=clf.predict_proba(x_new)"
      ],
      "metadata": {
        "id": "rBo-rFtGCXok"
      },
      "id": "rBo-rFtGCXok",
      "execution_count": null,
      "outputs": []
    },
    {
      "cell_type": "code",
      "source": [
        "plt.plot(x_new,y_prob[:,1],\"g-\",label='faulty')\n",
        "plt.show()"
      ],
      "metadata": {
        "colab": {
          "base_uri": "https://localhost:8080/",
          "height": 265
        },
        "id": "ky7hBUo3XxRV",
        "outputId": "d2a4e08c-a1a0-49fc-eea0-efd015dfe323"
      },
      "id": "ky7hBUo3XxRV",
      "execution_count": null,
      "outputs": [
        {
          "output_type": "display_data",
          "data": {
            "text/plain": [
              "<Figure size 432x288 with 1 Axes>"
            ],
            "image/png": "[encoded data removed]"
          },
          "metadata": {
            "needs_background": "light"
          }
        }
      ]
    },
    {
      "cell_type": "code",
      "source": [
        "from sklearn.model_selection import cross_val_score\n",
        "a=cross_val_score(clf,X_train,y_train,cv=3,scoring=\"accuracy\")"
      ],
      "metadata": {
        "id": "haLK9ewNJJ93",
        "colab": {
          "base_uri": "https://localhost:8080/"
        },
        "outputId": "0977f8ab-886e-4bb8-da99-1505047dca79"
      },
      "id": "haLK9ewNJJ93",
      "execution_count": null,
      "outputs": [
        {
          "output_type": "stream",
          "name": "stderr",
          "text": [
            "/usr/local/lib/python3.7/dist-packages/sklearn/utils/validation.py:993: DataConversionWarning: A column-vector y was passed when a 1d array was expected. Please change the shape of y to (n_samples, ), for example using ravel().\n",
            "  y = column_or_1d(y, warn=True)\n",
            "/usr/local/lib/python3.7/dist-packages/sklearn/utils/validation.py:993: DataConversionWarning: A column-vector y was passed when a 1d array was expected. Please change the shape of y to (n_samples, ), for example using ravel().\n",
            "  y = column_or_1d(y, warn=True)\n",
            "/usr/local/lib/python3.7/dist-packages/sklearn/utils/validation.py:993: DataConversionWarning: A column-vector y was passed when a 1d array was expected. Please change the shape of y to (n_samples, ), for example using ravel().\n",
            "  y = column_or_1d(y, warn=True)\n"
          ]
        }
      ]
    },
    {
      "cell_type": "code",
      "source": [
        "a.mean()"
      ],
      "metadata": {
        "colab": {
          "base_uri": "https://localhost:8080/"
        },
        "id": "uNNYKnYzKDs-",
        "outputId": "cb137689-790a-4a50-cdac-92248f5be529"
      },
      "id": "uNNYKnYzKDs-",
      "execution_count": null,
      "outputs": [
        {
          "output_type": "execute_result",
          "data": {
            "text/plain": [
              "0.5380002677033865"
            ]
          },
          "metadata": {},
          "execution_count": 343
        }
      ]
    },
    {
      "cell_type": "code",
      "source": [
        ""
      ],
      "metadata": {
        "id": "niNkNOoBOnBz"
      },
      "id": "niNkNOoBOnBz",
      "execution_count": null,
      "outputs": []
    },
    {
      "cell_type": "code",
      "source": [
        "X_train_2 = train_set['a2'].values.reshape(-1, 1)\n",
        "y_train_2 = train_set['fault'].values.reshape(-1, 1)\n",
        "X_test_2 = train_set['a2'].values.reshape(-1, 1)\n",
        "y_test_2 = train_set['fault'].values.reshape(-1, 1)"
      ],
      "metadata": {
        "id": "P-z7OhgvLGZb"
      },
      "id": "P-z7OhgvLGZb",
      "execution_count": null,
      "outputs": []
    },
    {
      "cell_type": "code",
      "source": [
        "clf_2 = LogisticRegression()"
      ],
      "metadata": {
        "id": "J6PcdKkuLSZ-"
      },
      "id": "J6PcdKkuLSZ-",
      "execution_count": null,
      "outputs": []
    },
    {
      "cell_type": "code",
      "source": [
        "clf_2.fit(X_train_2,y_train_2)"
      ],
      "metadata": {
        "colab": {
          "base_uri": "https://localhost:8080/"
        },
        "id": "NF9UgQu9LXx0",
        "outputId": "6e8d5062-28ec-49c7-ebdb-07af7b51f9e6"
      },
      "id": "NF9UgQu9LXx0",
      "execution_count": null,
      "outputs": [
        {
          "output_type": "stream",
          "name": "stderr",
          "text": [
            "/usr/local/lib/python3.7/dist-packages/sklearn/utils/validation.py:993: DataConversionWarning: A column-vector y was passed when a 1d array was expected. Please change the shape of y to (n_samples, ), for example using ravel().\n",
            "  y = column_or_1d(y, warn=True)\n"
          ]
        },
        {
          "output_type": "execute_result",
          "data": {
            "text/plain": [
              "LogisticRegression()"
            ]
          },
          "metadata": {},
          "execution_count": 346
        }
      ]
    },
    {
      "cell_type": "code",
      "source": [
        "from sklearn.model_selection import cross_val_score\n",
        "a_2=cross_val_score(clf,X_test_2,y_test_2,cv=3,scoring=\"accuracy\")"
      ],
      "metadata": {
        "colab": {
          "base_uri": "https://localhost:8080/"
        },
        "id": "S1-11_F5LjNO",
        "outputId": "eaa46fd3-da77-4b83-ec56-634d4f591c87"
      },
      "id": "S1-11_F5LjNO",
      "execution_count": null,
      "outputs": [
        {
          "output_type": "stream",
          "name": "stderr",
          "text": [
            "/usr/local/lib/python3.7/dist-packages/sklearn/utils/validation.py:993: DataConversionWarning: A column-vector y was passed when a 1d array was expected. Please change the shape of y to (n_samples, ), for example using ravel().\n",
            "  y = column_or_1d(y, warn=True)\n",
            "/usr/local/lib/python3.7/dist-packages/sklearn/utils/validation.py:993: DataConversionWarning: A column-vector y was passed when a 1d array was expected. Please change the shape of y to (n_samples, ), for example using ravel().\n",
            "  y = column_or_1d(y, warn=True)\n",
            "/usr/local/lib/python3.7/dist-packages/sklearn/utils/validation.py:993: DataConversionWarning: A column-vector y was passed when a 1d array was expected. Please change the shape of y to (n_samples, ), for example using ravel().\n",
            "  y = column_or_1d(y, warn=True)\n"
          ]
        }
      ]
    },
    {
      "cell_type": "code",
      "source": [
        "a_2.mean()"
      ],
      "metadata": {
        "colab": {
          "base_uri": "https://localhost:8080/"
        },
        "id": "eBZbGwXXLpGk",
        "outputId": "78b5c308-21fb-4ad3-cd6c-955a267a1b1a"
      },
      "id": "eBZbGwXXLpGk",
      "execution_count": null,
      "outputs": [
        {
          "output_type": "execute_result",
          "data": {
            "text/plain": [
              "0.5086499350400017"
            ]
          },
          "metadata": {},
          "execution_count": 348
        }
      ]
    },
    {
      "cell_type": "code",
      "source": [
        "from sklearn.model_selection import cross_val_predict\n",
        "y_train_pred = cross_val_predict(clf,X_test,y_test,cv=3)"
      ],
      "metadata": {
        "id": "DQQ7tfaCMKmd",
        "colab": {
          "base_uri": "https://localhost:8080/"
        },
        "outputId": "5850229d-7831-45d1-c0dd-c875c7e9a37b"
      },
      "id": "DQQ7tfaCMKmd",
      "execution_count": null,
      "outputs": [
        {
          "output_type": "stream",
          "name": "stderr",
          "text": [
            "/usr/local/lib/python3.7/dist-packages/sklearn/utils/validation.py:993: DataConversionWarning: A column-vector y was passed when a 1d array was expected. Please change the shape of y to (n_samples, ), for example using ravel().\n",
            "  y = column_or_1d(y, warn=True)\n",
            "/usr/local/lib/python3.7/dist-packages/sklearn/utils/validation.py:993: DataConversionWarning: A column-vector y was passed when a 1d array was expected. Please change the shape of y to (n_samples, ), for example using ravel().\n",
            "  y = column_or_1d(y, warn=True)\n",
            "/usr/local/lib/python3.7/dist-packages/sklearn/utils/validation.py:993: DataConversionWarning: A column-vector y was passed when a 1d array was expected. Please change the shape of y to (n_samples, ), for example using ravel().\n",
            "  y = column_or_1d(y, warn=True)\n"
          ]
        }
      ]
    },
    {
      "cell_type": "code",
      "source": [
        "y_train_pred"
      ],
      "metadata": {
        "colab": {
          "base_uri": "https://localhost:8080/"
        },
        "id": "DUFslFYvX4wW",
        "outputId": "bb849581-a9e9-461d-ddaf-668eeebb025b"
      },
      "id": "DUFslFYvX4wW",
      "execution_count": null,
      "outputs": [
        {
          "output_type": "execute_result",
          "data": {
            "text/plain": [
              "array([0, 0, 1, ..., 0, 0, 1])"
            ]
          },
          "metadata": {},
          "execution_count": 350
        }
      ]
    },
    {
      "cell_type": "code",
      "source": [
        "from sklearn.metrics import confusion_matrix"
      ],
      "metadata": {
        "id": "k3_4J5T7Y3zx"
      },
      "id": "k3_4J5T7Y3zx",
      "execution_count": null,
      "outputs": []
    },
    {
      "cell_type": "code",
      "source": [
        "confusion_matrix(y_train,y_train_pred)##predicted data"
      ],
      "metadata": {
        "colab": {
          "base_uri": "https://localhost:8080/"
        },
        "id": "rjanpsAyc4JC",
        "outputId": "afb7f9b6-2cc2-4323-c3f7-2451de0fd70f"
      },
      "id": "rjanpsAyc4JC",
      "execution_count": null,
      "outputs": [
        {
          "output_type": "execute_result",
          "data": {
            "text/plain": [
              "array([[7139, 2806],\n",
              "       [6434, 3621]])"
            ]
          },
          "metadata": {},
          "execution_count": 352
        }
      ]
    },
    {
      "cell_type": "code",
      "source": [
        "confusion_matrix(y_train,y_train)##actual data(for prefect prediction)"
      ],
      "metadata": {
        "colab": {
          "base_uri": "https://localhost:8080/"
        },
        "id": "yupnm5yUeP24",
        "outputId": "b35a4d72-d2c1-4599-c16a-2ae5a7496c0e"
      },
      "id": "yupnm5yUeP24",
      "execution_count": null,
      "outputs": [
        {
          "output_type": "execute_result",
          "data": {
            "text/plain": [
              "array([[ 9945,     0],\n",
              "       [    0, 10055]])"
            ]
          },
          "metadata": {},
          "execution_count": 353
        }
      ]
    },
    {
      "cell_type": "code",
      "source": [
        "from sklearn.metrics import precision_score,recall_score,f1_score ##Evaluting Precison,recall and F1_score"
      ],
      "metadata": {
        "id": "4oRSwAQMgqUZ"
      },
      "id": "4oRSwAQMgqUZ",
      "execution_count": null,
      "outputs": []
    },
    {
      "cell_type": "code",
      "source": [
        "precision_score(y_train,y_train_pred)"
      ],
      "metadata": {
        "colab": {
          "base_uri": "https://localhost:8080/"
        },
        "id": "LP1TVMiOg3BV",
        "outputId": "ff2eb5d2-f0d6-4180-dd9c-a0a7ae5a902f"
      },
      "id": "LP1TVMiOg3BV",
      "execution_count": null,
      "outputs": [
        {
          "output_type": "execute_result",
          "data": {
            "text/plain": [
              "0.5634043877392252"
            ]
          },
          "metadata": {},
          "execution_count": 355
        }
      ]
    },
    {
      "cell_type": "code",
      "source": [
        "recall_score(y_train,y_train_pred)"
      ],
      "metadata": {
        "colab": {
          "base_uri": "https://localhost:8080/"
        },
        "id": "W3LukzU9hNo2",
        "outputId": "283152a3-85b2-4246-f9db-e7c11be4d979"
      },
      "id": "W3LukzU9hNo2",
      "execution_count": null,
      "outputs": [
        {
          "output_type": "execute_result",
          "data": {
            "text/plain": [
              "0.3601193436101442"
            ]
          },
          "metadata": {},
          "execution_count": 356
        }
      ]
    },
    {
      "cell_type": "code",
      "source": [
        "f1_score(y_train,y_train_pred)"
      ],
      "metadata": {
        "colab": {
          "base_uri": "https://localhost:8080/"
        },
        "id": "jiMe5EgNhlKe",
        "outputId": "13e8dadf-2fef-4c8c-bbde-3775d3aa126d"
      },
      "id": "jiMe5EgNhlKe",
      "execution_count": null,
      "outputs": [
        {
          "output_type": "execute_result",
          "data": {
            "text/plain": [
              "0.4393884237349836"
            ]
          },
          "metadata": {},
          "execution_count": 357
        }
      ]
    },
    {
      "cell_type": "code",
      "source": [
        "x_new=np.linspace(0,2500,3000).reshape(-1,1)\n",
        "y_prob=clf.predict_proba(x_new)\n",
        "plt.scatter(X_test,y_test)\n",
        "plt.plot(x_new,y_prob[:,1],\"g-\",label='faulty')\n",
        "plt.show()"
      ],
      "metadata": {
        "id": "xuhYu0KJh-4i",
        "colab": {
          "base_uri": "https://localhost:8080/",
          "height": 265
        },
        "outputId": "5fa1923a-3d87-47d1-fe68-fbf3ead36ced"
      },
      "id": "xuhYu0KJh-4i",
      "execution_count": null,
      "outputs": [
        {
          "output_type": "display_data",
          "data": {
            "text/plain": [
              "<Figure size 432x288 with 1 Axes>"
            ],
            "image/png": "[encoded data removed]"
          },
          "metadata": {
            "needs_background": "light"
          }
        }
      ]
    },
    {
      "cell_type": "code",
      "source": [
        ""
      ],
      "metadata": {
        "id": "zqxJAQqpdPar"
      },
      "id": "zqxJAQqpdPar",
      "execution_count": null,
      "outputs": []
    }
  ],
  "metadata": {
    "kernelspec": {
      "display_name": "Python 3 (ipykernel)",
      "language": "python",
      "name": "python3"
    },
    "language_info": {
      "codemirror_mode": {
        "name": "ipython",
        "version": 3
      },
      "file_extension": ".py",
      "mimetype": "text/x-python",
      "name": "python",
      "nbconvert_exporter": "python",
      "pygments_lexer": "ipython3",
      "version": "3.7.9"
    },
    "colab": {
      "name": "dsproend.ipynb",
      "provenance": []
    }
  },
  "nbformat": 4,
  "nbformat_minor": 5
}